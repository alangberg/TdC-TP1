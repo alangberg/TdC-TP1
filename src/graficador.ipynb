{
 "cells": [
  {
   "cell_type": "code",
   "execution_count": 17,
   "metadata": {
    "scrolled": false
   },
   "outputs": [
    {
     "data": {
      "text/html": [
       "<script>requirejs.config({paths: { 'plotly': ['https://cdn.plot.ly/plotly-latest.min']},});if(!window.Plotly) {{require(['plotly'],function(plotly) {window.Plotly=plotly;});}}</script>"
      ],
      "text/vnd.plotly.v1+html": [
       "<script>requirejs.config({paths: { 'plotly': ['https://cdn.plot.ly/plotly-latest.min']},});if(!window.Plotly) {{require(['plotly'],function(plotly) {window.Plotly=plotly;});}}</script>"
      ]
     },
     "metadata": {},
     "output_type": "display_data"
    },
    {
     "name": "stdout",
     "output_type": "stream",
     "text": [
      "hello\n",
      "hello\n"
     ]
    },
    {
     "data": {
      "application/vnd.plotly.v1+json": {
       "data": [
        {
         "name": "Hogar 1, S1",
         "type": "bar",
         "x": [
          "('unicast', 'IP')",
          "('broadcast', 'IP')",
          "('broadcast', 'ARP')",
          "('unicast', 'IPv6')",
          "('unicast', 'ARP')"
         ],
         "y": [
          0.0485614057687,
          5.37282899319,
          8.587272661410001,
          7.31808602859,
          13.2877123795
         ]
        },
        {
         "mode": "lines",
         "name": "Entropía de Hogar 1, S1",
         "type": "scatter",
         "x": [
          "('unicast', 'IP')",
          "('broadcast', 'IP')",
          "('broadcast', 'ARP')",
          "('unicast', 'IPv6')",
          "('unicast', 'ARP')"
         ],
         "y": [
          0.24613398221000002,
          0.24613398221000002,
          0.24613398221000002,
          0.24613398221000002,
          0.24613398221000002
         ]
        }
       ],
       "layout": {
        "title": "Gráfico de información de cada símbolo.",
        "xaxis": {
         "title": "Símbolos"
        },
        "yaxis": {
         "title": "Información"
        }
       }
      },
      "text/html": [
       "<div id=\"231eb0f6-f9dd-4aae-b9fe-7db925b8b18f\" style=\"height: 525px; width: 100%;\" class=\"plotly-graph-div\"></div><script type=\"text/javascript\">require([\"plotly\"], function(Plotly) { window.PLOTLYENV=window.PLOTLYENV || {};window.PLOTLYENV.BASE_URL=\"https://plot.ly\";Plotly.newPlot(\"231eb0f6-f9dd-4aae-b9fe-7db925b8b18f\", [{\"y\": [0.0485614057687, 5.37282899319, 8.587272661410001, 7.31808602859, 13.2877123795], \"x\": [\"('unicast', 'IP')\", \"('broadcast', 'IP')\", \"('broadcast', 'ARP')\", \"('unicast', 'IPv6')\", \"('unicast', 'ARP')\"], \"type\": \"bar\", \"name\": \"Hogar 1, S1\"}, {\"y\": [0.24613398221000002, 0.24613398221000002, 0.24613398221000002, 0.24613398221000002, 0.24613398221000002], \"x\": [\"('unicast', 'IP')\", \"('broadcast', 'IP')\", \"('broadcast', 'ARP')\", \"('unicast', 'IPv6')\", \"('unicast', 'ARP')\"], \"type\": \"scatter\", \"name\": \"Entrop\\u00eda de Hogar 1, S1\", \"mode\": \"lines\"}], {\"title\": \"Gr\\u00e1fico de informaci\\u00f3n de cada s\\u00edmbolo.\", \"xaxis\": {\"title\": \"S\\u00edmbolos\"}, \"yaxis\": {\"title\": \"Informaci\\u00f3n\"}}, {\"linkText\": \"Export to plot.ly\", \"showLink\": true})});</script>"
      ],
      "text/vnd.plotly.v1+html": [
       "<div id=\"231eb0f6-f9dd-4aae-b9fe-7db925b8b18f\" style=\"height: 525px; width: 100%;\" class=\"plotly-graph-div\"></div><script type=\"text/javascript\">require([\"plotly\"], function(Plotly) { window.PLOTLYENV=window.PLOTLYENV || {};window.PLOTLYENV.BASE_URL=\"https://plot.ly\";Plotly.newPlot(\"231eb0f6-f9dd-4aae-b9fe-7db925b8b18f\", [{\"y\": [0.0485614057687, 5.37282899319, 8.587272661410001, 7.31808602859, 13.2877123795], \"x\": [\"('unicast', 'IP')\", \"('broadcast', 'IP')\", \"('broadcast', 'ARP')\", \"('unicast', 'IPv6')\", \"('unicast', 'ARP')\"], \"type\": \"bar\", \"name\": \"Hogar 1, S1\"}, {\"y\": [0.24613398221000002, 0.24613398221000002, 0.24613398221000002, 0.24613398221000002, 0.24613398221000002], \"x\": [\"('unicast', 'IP')\", \"('broadcast', 'IP')\", \"('broadcast', 'ARP')\", \"('unicast', 'IPv6')\", \"('unicast', 'ARP')\"], \"type\": \"scatter\", \"name\": \"Entrop\\u00eda de Hogar 1, S1\", \"mode\": \"lines\"}], {\"title\": \"Gr\\u00e1fico de informaci\\u00f3n de cada s\\u00edmbolo.\", \"xaxis\": {\"title\": \"S\\u00edmbolos\"}, \"yaxis\": {\"title\": \"Informaci\\u00f3n\"}}, {\"linkText\": \"Export to plot.ly\", \"showLink\": true})});</script>"
      ]
     },
     "metadata": {},
     "output_type": "display_data"
    },
    {
     "data": {
      "application/vnd.plotly.v1+json": {
       "data": [
        {
         "name": "Hogar 2, S1",
         "type": "bar",
         "x": [
          "('unicast', 'EAPOL')",
          "('broadcast', 'IP')",
          "('unicast', 'IPv6')",
          "('unicast', 'IP')",
          "('unicast', 'ARP')",
          "('broadcast', 'ARP')"
         ],
         "y": [
          13.8726748803,
          5.0209258389,
          9.3180860286,
          0.10801058820000001,
          7.7433918633,
          4.8351279263
         ]
        },
        {
         "mode": "lines",
         "name": "Entropía de Hogar 2, S1",
         "type": "scatter",
         "x": [
          "('unicast', 'EAPOL')",
          "('broadcast', 'IP')",
          "('unicast', 'IPv6')",
          "('unicast', 'IP')",
          "('unicast', 'ARP')",
          "('broadcast', 'ARP')"
         ],
         "y": [
          0.47591359710000003,
          0.47591359710000003,
          0.47591359710000003,
          0.47591359710000003,
          0.47591359710000003,
          0.47591359710000003
         ]
        }
       ],
       "layout": {
        "title": "Gráfico de información de cada símbolo.",
        "xaxis": {
         "title": "Símbolos"
        },
        "yaxis": {
         "title": "Información"
        }
       }
      },
      "text/html": [
       "<div id=\"80e49a85-1342-48ab-a24a-27012e75f546\" style=\"height: 525px; width: 100%;\" class=\"plotly-graph-div\"></div><script type=\"text/javascript\">require([\"plotly\"], function(Plotly) { window.PLOTLYENV=window.PLOTLYENV || {};window.PLOTLYENV.BASE_URL=\"https://plot.ly\";Plotly.newPlot(\"80e49a85-1342-48ab-a24a-27012e75f546\", [{\"y\": [13.8726748803, 5.0209258389, 9.3180860286, 0.10801058820000001, 7.7433918633, 4.8351279263], \"x\": [\"('unicast', 'EAPOL')\", \"('broadcast', 'IP')\", \"('unicast', 'IPv6')\", \"('unicast', 'IP')\", \"('unicast', 'ARP')\", \"('broadcast', 'ARP')\"], \"type\": \"bar\", \"name\": \"Hogar 2, S1\"}, {\"y\": [0.47591359710000003, 0.47591359710000003, 0.47591359710000003, 0.47591359710000003, 0.47591359710000003, 0.47591359710000003], \"x\": [\"('unicast', 'EAPOL')\", \"('broadcast', 'IP')\", \"('unicast', 'IPv6')\", \"('unicast', 'IP')\", \"('unicast', 'ARP')\", \"('broadcast', 'ARP')\"], \"type\": \"scatter\", \"name\": \"Entrop\\u00eda de Hogar 2, S1\", \"mode\": \"lines\"}], {\"title\": \"Gr\\u00e1fico de informaci\\u00f3n de cada s\\u00edmbolo.\", \"xaxis\": {\"title\": \"S\\u00edmbolos\"}, \"yaxis\": {\"title\": \"Informaci\\u00f3n\"}}, {\"linkText\": \"Export to plot.ly\", \"showLink\": true})});</script>"
      ],
      "text/vnd.plotly.v1+html": [
       "<div id=\"80e49a85-1342-48ab-a24a-27012e75f546\" style=\"height: 525px; width: 100%;\" class=\"plotly-graph-div\"></div><script type=\"text/javascript\">require([\"plotly\"], function(Plotly) { window.PLOTLYENV=window.PLOTLYENV || {};window.PLOTLYENV.BASE_URL=\"https://plot.ly\";Plotly.newPlot(\"80e49a85-1342-48ab-a24a-27012e75f546\", [{\"y\": [13.8726748803, 5.0209258389, 9.3180860286, 0.10801058820000001, 7.7433918633, 4.8351279263], \"x\": [\"('unicast', 'EAPOL')\", \"('broadcast', 'IP')\", \"('unicast', 'IPv6')\", \"('unicast', 'IP')\", \"('unicast', 'ARP')\", \"('broadcast', 'ARP')\"], \"type\": \"bar\", \"name\": \"Hogar 2, S1\"}, {\"y\": [0.47591359710000003, 0.47591359710000003, 0.47591359710000003, 0.47591359710000003, 0.47591359710000003, 0.47591359710000003], \"x\": [\"('unicast', 'EAPOL')\", \"('broadcast', 'IP')\", \"('unicast', 'IPv6')\", \"('unicast', 'IP')\", \"('unicast', 'ARP')\", \"('broadcast', 'ARP')\"], \"type\": \"scatter\", \"name\": \"Entrop\\u00eda de Hogar 2, S1\", \"mode\": \"lines\"}], {\"title\": \"Gr\\u00e1fico de informaci\\u00f3n de cada s\\u00edmbolo.\", \"xaxis\": {\"title\": \"S\\u00edmbolos\"}, \"yaxis\": {\"title\": \"Informaci\\u00f3n\"}}, {\"linkText\": \"Export to plot.ly\", \"showLink\": true})});</script>"
      ]
     },
     "metadata": {},
     "output_type": "display_data"
    },
    {
     "data": {
      "application/vnd.plotly.v1+json": {
       "data": [
        {
         "name": "Trabajo, S1",
         "type": "bar",
         "x": [
          "('broadcast', 'LLC')",
          "('unicast', 'EAPOL')",
          "('broadcast', 'IP')",
          "('unicast', 'IPv6')",
          "('unicast', 'IP')",
          "('unicast', 'ARP')",
          "('broadcast', 'ARP')"
         ],
         "y": [
          9.78521203902,
          8.287712379550001,
          5.0782590139199995,
          7.64385618977,
          0.130154908609,
          13.8726748803,
          4.4030330630300005
         ]
        },
        {
         "mode": "lines",
         "name": "Entropía de Trabajo, S1",
         "type": "scatter",
         "x": [
          "('broadcast', 'LLC')",
          "('unicast', 'EAPOL')",
          "('broadcast', 'IP')",
          "('unicast', 'IPv6')",
          "('unicast', 'IP')",
          "('unicast', 'ARP')",
          "('broadcast', 'ARP')"
         ],
         "y": [
          0.554114753951,
          0.554114753951,
          0.554114753951,
          0.554114753951,
          0.554114753951,
          0.554114753951,
          0.554114753951
         ]
        }
       ],
       "layout": {
        "title": "Gráfico de información de cada símbolo.",
        "xaxis": {
         "title": "Símbolos"
        },
        "yaxis": {
         "title": "Información"
        }
       }
      },
      "text/html": [
       "<div id=\"93d36306-70f0-49b4-844a-869aa445073c\" style=\"height: 525px; width: 100%;\" class=\"plotly-graph-div\"></div><script type=\"text/javascript\">require([\"plotly\"], function(Plotly) { window.PLOTLYENV=window.PLOTLYENV || {};window.PLOTLYENV.BASE_URL=\"https://plot.ly\";Plotly.newPlot(\"93d36306-70f0-49b4-844a-869aa445073c\", [{\"y\": [9.78521203902, 8.287712379550001, 5.0782590139199995, 7.64385618977, 0.130154908609, 13.8726748803, 4.4030330630300005], \"x\": [\"('broadcast', 'LLC')\", \"('unicast', 'EAPOL')\", \"('broadcast', 'IP')\", \"('unicast', 'IPv6')\", \"('unicast', 'IP')\", \"('unicast', 'ARP')\", \"('broadcast', 'ARP')\"], \"type\": \"bar\", \"name\": \"Trabajo, S1\"}, {\"y\": [0.554114753951, 0.554114753951, 0.554114753951, 0.554114753951, 0.554114753951, 0.554114753951, 0.554114753951], \"x\": [\"('broadcast', 'LLC')\", \"('unicast', 'EAPOL')\", \"('broadcast', 'IP')\", \"('unicast', 'IPv6')\", \"('unicast', 'IP')\", \"('unicast', 'ARP')\", \"('broadcast', 'ARP')\"], \"type\": \"scatter\", \"name\": \"Entrop\\u00eda de Trabajo, S1\", \"mode\": \"lines\"}], {\"title\": \"Gr\\u00e1fico de informaci\\u00f3n de cada s\\u00edmbolo.\", \"xaxis\": {\"title\": \"S\\u00edmbolos\"}, \"yaxis\": {\"title\": \"Informaci\\u00f3n\"}}, {\"linkText\": \"Export to plot.ly\", \"showLink\": true})});</script>"
      ],
      "text/vnd.plotly.v1+html": [
       "<div id=\"93d36306-70f0-49b4-844a-869aa445073c\" style=\"height: 525px; width: 100%;\" class=\"plotly-graph-div\"></div><script type=\"text/javascript\">require([\"plotly\"], function(Plotly) { window.PLOTLYENV=window.PLOTLYENV || {};window.PLOTLYENV.BASE_URL=\"https://plot.ly\";Plotly.newPlot(\"93d36306-70f0-49b4-844a-869aa445073c\", [{\"y\": [9.78521203902, 8.287712379550001, 5.0782590139199995, 7.64385618977, 0.130154908609, 13.8726748803, 4.4030330630300005], \"x\": [\"('broadcast', 'LLC')\", \"('unicast', 'EAPOL')\", \"('broadcast', 'IP')\", \"('unicast', 'IPv6')\", \"('unicast', 'IP')\", \"('unicast', 'ARP')\", \"('broadcast', 'ARP')\"], \"type\": \"bar\", \"name\": \"Trabajo, S1\"}, {\"y\": [0.554114753951, 0.554114753951, 0.554114753951, 0.554114753951, 0.554114753951, 0.554114753951, 0.554114753951], \"x\": [\"('broadcast', 'LLC')\", \"('unicast', 'EAPOL')\", \"('broadcast', 'IP')\", \"('unicast', 'IPv6')\", \"('unicast', 'IP')\", \"('unicast', 'ARP')\", \"('broadcast', 'ARP')\"], \"type\": \"scatter\", \"name\": \"Entrop\\u00eda de Trabajo, S1\", \"mode\": \"lines\"}], {\"title\": \"Gr\\u00e1fico de informaci\\u00f3n de cada s\\u00edmbolo.\", \"xaxis\": {\"title\": \"S\\u00edmbolos\"}, \"yaxis\": {\"title\": \"Informaci\\u00f3n\"}}, {\"linkText\": \"Export to plot.ly\", \"showLink\": true})});</script>"
      ]
     },
     "metadata": {},
     "output_type": "display_data"
    },
    {
     "data": {
      "application/vnd.plotly.v1+json": {
       "data": [
        {
         "name": "Laboratorio, S1",
         "type": "bar",
         "x": [
          "('broadcast', 'Raw')",
          "('broadcast', 'LLC')",
          "('broadcast', 'ARP')",
          "('unicast', 'IP')",
          "('unicast', 'IPv6')",
          "('broadcast', 'IP')",
          "('unicast', 'ARP')",
          "('unicast', 'LLC')"
         ],
         "y": [
          9.70274987883,
          7.70274987883,
          4.0509008983,
          0.744680559294,
          2.6135201113999997,
          2.54905711698,
          9.01469388514,
          10.5507467854
         ]
        },
        {
         "mode": "lines",
         "name": "Entropía de Laboratorio, S1",
         "type": "scatter",
         "x": [
          "('broadcast', 'Raw')",
          "('broadcast', 'LLC')",
          "('broadcast', 'ARP')",
          "('unicast', 'IP')",
          "('unicast', 'IPv6')",
          "('broadcast', 'IP')",
          "('unicast', 'ARP')",
          "('unicast', 'LLC')"
         ],
         "y": [
          1.62450652955,
          1.62450652955,
          1.62450652955,
          1.62450652955,
          1.62450652955,
          1.62450652955,
          1.62450652955,
          1.62450652955
         ]
        }
       ],
       "layout": {
        "title": "Gráfico de información de cada símbolo.",
        "xaxis": {
         "title": "Símbolos"
        },
        "yaxis": {
         "title": "Información"
        }
       }
      },
      "text/html": [
       "<div id=\"9651882d-dca8-4707-9c77-b812da486c35\" style=\"height: 525px; width: 100%;\" class=\"plotly-graph-div\"></div><script type=\"text/javascript\">require([\"plotly\"], function(Plotly) { window.PLOTLYENV=window.PLOTLYENV || {};window.PLOTLYENV.BASE_URL=\"https://plot.ly\";Plotly.newPlot(\"9651882d-dca8-4707-9c77-b812da486c35\", [{\"y\": [9.70274987883, 7.70274987883, 4.0509008983, 0.744680559294, 2.6135201113999997, 2.54905711698, 9.01469388514, 10.5507467854], \"x\": [\"('broadcast', 'Raw')\", \"('broadcast', 'LLC')\", \"('broadcast', 'ARP')\", \"('unicast', 'IP')\", \"('unicast', 'IPv6')\", \"('broadcast', 'IP')\", \"('unicast', 'ARP')\", \"('unicast', 'LLC')\"], \"type\": \"bar\", \"name\": \"Laboratorio, S1\"}, {\"y\": [1.62450652955, 1.62450652955, 1.62450652955, 1.62450652955, 1.62450652955, 1.62450652955, 1.62450652955, 1.62450652955], \"x\": [\"('broadcast', 'Raw')\", \"('broadcast', 'LLC')\", \"('broadcast', 'ARP')\", \"('unicast', 'IP')\", \"('unicast', 'IPv6')\", \"('broadcast', 'IP')\", \"('unicast', 'ARP')\", \"('unicast', 'LLC')\"], \"type\": \"scatter\", \"name\": \"Entrop\\u00eda de Laboratorio, S1\", \"mode\": \"lines\"}], {\"title\": \"Gr\\u00e1fico de informaci\\u00f3n de cada s\\u00edmbolo.\", \"xaxis\": {\"title\": \"S\\u00edmbolos\"}, \"yaxis\": {\"title\": \"Informaci\\u00f3n\"}}, {\"linkText\": \"Export to plot.ly\", \"showLink\": true})});</script>"
      ],
      "text/vnd.plotly.v1+html": [
       "<div id=\"9651882d-dca8-4707-9c77-b812da486c35\" style=\"height: 525px; width: 100%;\" class=\"plotly-graph-div\"></div><script type=\"text/javascript\">require([\"plotly\"], function(Plotly) { window.PLOTLYENV=window.PLOTLYENV || {};window.PLOTLYENV.BASE_URL=\"https://plot.ly\";Plotly.newPlot(\"9651882d-dca8-4707-9c77-b812da486c35\", [{\"y\": [9.70274987883, 7.70274987883, 4.0509008983, 0.744680559294, 2.6135201113999997, 2.54905711698, 9.01469388514, 10.5507467854], \"x\": [\"('broadcast', 'Raw')\", \"('broadcast', 'LLC')\", \"('broadcast', 'ARP')\", \"('unicast', 'IP')\", \"('unicast', 'IPv6')\", \"('broadcast', 'IP')\", \"('unicast', 'ARP')\", \"('unicast', 'LLC')\"], \"type\": \"bar\", \"name\": \"Laboratorio, S1\"}, {\"y\": [1.62450652955, 1.62450652955, 1.62450652955, 1.62450652955, 1.62450652955, 1.62450652955, 1.62450652955, 1.62450652955], \"x\": [\"('broadcast', 'Raw')\", \"('broadcast', 'LLC')\", \"('broadcast', 'ARP')\", \"('unicast', 'IP')\", \"('unicast', 'IPv6')\", \"('broadcast', 'IP')\", \"('unicast', 'ARP')\", \"('unicast', 'LLC')\"], \"type\": \"scatter\", \"name\": \"Entrop\\u00eda de Laboratorio, S1\", \"mode\": \"lines\"}], {\"title\": \"Gr\\u00e1fico de informaci\\u00f3n de cada s\\u00edmbolo.\", \"xaxis\": {\"title\": \"S\\u00edmbolos\"}, \"yaxis\": {\"title\": \"Informaci\\u00f3n\"}}, {\"linkText\": \"Export to plot.ly\", \"showLink\": true})});</script>"
      ]
     },
     "metadata": {},
     "output_type": "display_data"
    },
    {
     "data": {
      "application/vnd.plotly.v1+json": {
       "data": [
        {
         "labels": [
          "Broadcast",
          "Unicast"
         ],
         "type": "pie",
         "values": [
          0.026733333333299997,
          0.9732666666667
         ]
        }
       ],
       "layout": {
        "title": "Gráfico de tráfico de broadcast sobre el total."
       }
      },
      "text/html": [
       "<div id=\"dc491553-5be7-4d54-9f76-5e6387f97144\" style=\"height: 525px; width: 100%;\" class=\"plotly-graph-div\"></div><script type=\"text/javascript\">require([\"plotly\"], function(Plotly) { window.PLOTLYENV=window.PLOTLYENV || {};window.PLOTLYENV.BASE_URL=\"https://plot.ly\";Plotly.newPlot(\"dc491553-5be7-4d54-9f76-5e6387f97144\", [{\"values\": [0.026733333333299997, 0.9732666666667], \"labels\": [\"Broadcast\", \"Unicast\"], \"type\": \"pie\"}], {\"title\": \"Gr\\u00e1fico de tr\\u00e1fico de broadcast sobre el total.\"}, {\"linkText\": \"Export to plot.ly\", \"showLink\": true})});</script>"
      ],
      "text/vnd.plotly.v1+html": [
       "<div id=\"dc491553-5be7-4d54-9f76-5e6387f97144\" style=\"height: 525px; width: 100%;\" class=\"plotly-graph-div\"></div><script type=\"text/javascript\">require([\"plotly\"], function(Plotly) { window.PLOTLYENV=window.PLOTLYENV || {};window.PLOTLYENV.BASE_URL=\"https://plot.ly\";Plotly.newPlot(\"dc491553-5be7-4d54-9f76-5e6387f97144\", [{\"values\": [0.026733333333299997, 0.9732666666667], \"labels\": [\"Broadcast\", \"Unicast\"], \"type\": \"pie\"}], {\"title\": \"Gr\\u00e1fico de tr\\u00e1fico de broadcast sobre el total.\"}, {\"linkText\": \"Export to plot.ly\", \"showLink\": true})});</script>"
      ]
     },
     "metadata": {},
     "output_type": "display_data"
    },
    {
     "data": {
      "application/vnd.plotly.v1+json": {
       "data": [
        {
         "labels": [
          "Broadcast",
          "Unicast"
         ],
         "type": "pie",
         "values": [
          0.0658333333,
          0.9341666667
         ]
        }
       ],
       "layout": {
        "title": "Gráfico de tráfico de broadcast sobre el total."
       }
      },
      "text/html": [
       "<div id=\"56a895aa-73f6-4b05-bef5-c5e6b710fdc4\" style=\"height: 525px; width: 100%;\" class=\"plotly-graph-div\"></div><script type=\"text/javascript\">require([\"plotly\"], function(Plotly) { window.PLOTLYENV=window.PLOTLYENV || {};window.PLOTLYENV.BASE_URL=\"https://plot.ly\";Plotly.newPlot(\"56a895aa-73f6-4b05-bef5-c5e6b710fdc4\", [{\"values\": [0.0658333333, 0.9341666667], \"labels\": [\"Broadcast\", \"Unicast\"], \"type\": \"pie\"}], {\"title\": \"Gr\\u00e1fico de tr\\u00e1fico de broadcast sobre el total.\"}, {\"linkText\": \"Export to plot.ly\", \"showLink\": true})});</script>"
      ],
      "text/vnd.plotly.v1+html": [
       "<div id=\"56a895aa-73f6-4b05-bef5-c5e6b710fdc4\" style=\"height: 525px; width: 100%;\" class=\"plotly-graph-div\"></div><script type=\"text/javascript\">require([\"plotly\"], function(Plotly) { window.PLOTLYENV=window.PLOTLYENV || {};window.PLOTLYENV.BASE_URL=\"https://plot.ly\";Plotly.newPlot(\"56a895aa-73f6-4b05-bef5-c5e6b710fdc4\", [{\"values\": [0.0658333333, 0.9341666667], \"labels\": [\"Broadcast\", \"Unicast\"], \"type\": \"pie\"}], {\"title\": \"Gr\\u00e1fico de tr\\u00e1fico de broadcast sobre el total.\"}, {\"linkText\": \"Export to plot.ly\", \"showLink\": true})});</script>"
      ]
     },
     "metadata": {},
     "output_type": "display_data"
    },
    {
     "data": {
      "application/vnd.plotly.v1+json": {
       "data": [
        {
         "labels": [
          "Broadcast",
          "Unicast"
         ],
         "type": "pie",
         "values": [
          0.07800000000002999,
          0.92199999999997
         ]
        }
       ],
       "layout": {
        "title": "Gráfico de tráfico de broadcast sobre el total."
       }
      },
      "text/html": [
       "<div id=\"68d28139-1381-4485-b621-df2abf21a014\" style=\"height: 525px; width: 100%;\" class=\"plotly-graph-div\"></div><script type=\"text/javascript\">require([\"plotly\"], function(Plotly) { window.PLOTLYENV=window.PLOTLYENV || {};window.PLOTLYENV.BASE_URL=\"https://plot.ly\";Plotly.newPlot(\"68d28139-1381-4485-b621-df2abf21a014\", [{\"values\": [0.07800000000002999, 0.92199999999997], \"labels\": [\"Broadcast\", \"Unicast\"], \"type\": \"pie\"}], {\"title\": \"Gr\\u00e1fico de tr\\u00e1fico de broadcast sobre el total.\"}, {\"linkText\": \"Export to plot.ly\", \"showLink\": true})});</script>"
      ],
      "text/vnd.plotly.v1+html": [
       "<div id=\"68d28139-1381-4485-b621-df2abf21a014\" style=\"height: 525px; width: 100%;\" class=\"plotly-graph-div\"></div><script type=\"text/javascript\">require([\"plotly\"], function(Plotly) { window.PLOTLYENV=window.PLOTLYENV || {};window.PLOTLYENV.BASE_URL=\"https://plot.ly\";Plotly.newPlot(\"68d28139-1381-4485-b621-df2abf21a014\", [{\"values\": [0.07800000000002999, 0.92199999999997], \"labels\": [\"Broadcast\", \"Unicast\"], \"type\": \"pie\"}], {\"title\": \"Gr\\u00e1fico de tr\\u00e1fico de broadcast sobre el total.\"}, {\"linkText\": \"Export to plot.ly\", \"showLink\": true})});</script>"
      ]
     },
     "metadata": {},
     "output_type": "display_data"
    },
    {
     "data": {
      "application/vnd.plotly.v1+json": {
       "data": [
        {
         "labels": [
          "Broadcast",
          "Unicast"
         ],
         "type": "pie",
         "values": [
          0.2372000000003,
          0.7627999999996999
         ]
        }
       ],
       "layout": {
        "title": "Gráfico de tráfico de broadcast sobre el total."
       }
      },
      "text/html": [
       "<div id=\"d7bc33fd-3605-432e-aaf1-10aa18746304\" style=\"height: 525px; width: 100%;\" class=\"plotly-graph-div\"></div><script type=\"text/javascript\">require([\"plotly\"], function(Plotly) { window.PLOTLYENV=window.PLOTLYENV || {};window.PLOTLYENV.BASE_URL=\"https://plot.ly\";Plotly.newPlot(\"d7bc33fd-3605-432e-aaf1-10aa18746304\", [{\"values\": [0.2372000000003, 0.7627999999996999], \"labels\": [\"Broadcast\", \"Unicast\"], \"type\": \"pie\"}], {\"title\": \"Gr\\u00e1fico de tr\\u00e1fico de broadcast sobre el total.\"}, {\"linkText\": \"Export to plot.ly\", \"showLink\": true})});</script>"
      ],
      "text/vnd.plotly.v1+html": [
       "<div id=\"d7bc33fd-3605-432e-aaf1-10aa18746304\" style=\"height: 525px; width: 100%;\" class=\"plotly-graph-div\"></div><script type=\"text/javascript\">require([\"plotly\"], function(Plotly) { window.PLOTLYENV=window.PLOTLYENV || {};window.PLOTLYENV.BASE_URL=\"https://plot.ly\";Plotly.newPlot(\"d7bc33fd-3605-432e-aaf1-10aa18746304\", [{\"values\": [0.2372000000003, 0.7627999999996999], \"labels\": [\"Broadcast\", \"Unicast\"], \"type\": \"pie\"}], {\"title\": \"Gr\\u00e1fico de tr\\u00e1fico de broadcast sobre el total.\"}, {\"linkText\": \"Export to plot.ly\", \"showLink\": true})});</script>"
      ]
     },
     "metadata": {},
     "output_type": "display_data"
    },
    {
     "data": {
      "application/vnd.plotly.v1+json": {
       "data": [
        {
         "name": "Hogar 1, S1",
         "type": "bar",
         "x": [
          "('unicast', 'IP')",
          "('broadcast', 'IP')",
          "('broadcast', 'ARP')",
          "('unicast', 'IPv6')",
          "('unicast', 'ARP')"
         ],
         "y": [
          0.9669,
          0.0241333333333,
          0.0026,
          0.00626666666667,
          0.0001
         ]
        }
       ],
       "layout": {
        "title": "Gráfico de probabilidades de cada símbolo.",
        "xaxis": {
         "title": "Símbolos"
        },
        "yaxis": {
         "title": "Probabilidad"
        }
       }
      },
      "text/html": [
       "<div id=\"9e9a9183-67de-4997-ae7b-591f32658884\" style=\"height: 525px; width: 100%;\" class=\"plotly-graph-div\"></div><script type=\"text/javascript\">require([\"plotly\"], function(Plotly) { window.PLOTLYENV=window.PLOTLYENV || {};window.PLOTLYENV.BASE_URL=\"https://plot.ly\";Plotly.newPlot(\"9e9a9183-67de-4997-ae7b-591f32658884\", [{\"y\": [0.9669, 0.0241333333333, 0.0026, 0.00626666666667, 0.0001], \"x\": [\"('unicast', 'IP')\", \"('broadcast', 'IP')\", \"('broadcast', 'ARP')\", \"('unicast', 'IPv6')\", \"('unicast', 'ARP')\"], \"type\": \"bar\", \"name\": \"Hogar 1, S1\"}], {\"title\": \"Gr\\u00e1fico de probabilidades de cada s\\u00edmbolo.\", \"xaxis\": {\"title\": \"S\\u00edmbolos\"}, \"yaxis\": {\"title\": \"Probabilidad\"}}, {\"linkText\": \"Export to plot.ly\", \"showLink\": true})});</script>"
      ],
      "text/vnd.plotly.v1+html": [
       "<div id=\"9e9a9183-67de-4997-ae7b-591f32658884\" style=\"height: 525px; width: 100%;\" class=\"plotly-graph-div\"></div><script type=\"text/javascript\">require([\"plotly\"], function(Plotly) { window.PLOTLYENV=window.PLOTLYENV || {};window.PLOTLYENV.BASE_URL=\"https://plot.ly\";Plotly.newPlot(\"9e9a9183-67de-4997-ae7b-591f32658884\", [{\"y\": [0.9669, 0.0241333333333, 0.0026, 0.00626666666667, 0.0001], \"x\": [\"('unicast', 'IP')\", \"('broadcast', 'IP')\", \"('broadcast', 'ARP')\", \"('unicast', 'IPv6')\", \"('unicast', 'ARP')\"], \"type\": \"bar\", \"name\": \"Hogar 1, S1\"}], {\"title\": \"Gr\\u00e1fico de probabilidades de cada s\\u00edmbolo.\", \"xaxis\": {\"title\": \"S\\u00edmbolos\"}, \"yaxis\": {\"title\": \"Probabilidad\"}}, {\"linkText\": \"Export to plot.ly\", \"showLink\": true})});</script>"
      ]
     },
     "metadata": {},
     "output_type": "display_data"
    },
    {
     "data": {
      "application/vnd.plotly.v1+json": {
       "data": [
        {
         "name": "Hogar 2, S1",
         "type": "bar",
         "x": [
          "('unicast', 'EAPOL')",
          "('broadcast', 'IP')",
          "('unicast', 'IPv6')",
          "('unicast', 'IP')",
          "('unicast', 'ARP')",
          "('broadcast', 'ARP')"
         ],
         "y": [
          6.66666666667e-05,
          0.0308,
          0.0015666667000000002,
          0.9278666667000001,
          0.0046666667,
          0.035033333300000004
         ]
        }
       ],
       "layout": {
        "title": "Gráfico de probabilidades de cada símbolo.",
        "xaxis": {
         "title": "Símbolos"
        },
        "yaxis": {
         "title": "Probabilidad"
        }
       }
      },
      "text/html": [
       "<div id=\"3016519d-b11a-47d5-b646-130a37ce2471\" style=\"height: 525px; width: 100%;\" class=\"plotly-graph-div\"></div><script type=\"text/javascript\">require([\"plotly\"], function(Plotly) { window.PLOTLYENV=window.PLOTLYENV || {};window.PLOTLYENV.BASE_URL=\"https://plot.ly\";Plotly.newPlot(\"3016519d-b11a-47d5-b646-130a37ce2471\", [{\"y\": [6.66666666667e-05, 0.0308, 0.0015666667000000002, 0.9278666667000001, 0.0046666667, 0.035033333300000004], \"x\": [\"('unicast', 'EAPOL')\", \"('broadcast', 'IP')\", \"('unicast', 'IPv6')\", \"('unicast', 'IP')\", \"('unicast', 'ARP')\", \"('broadcast', 'ARP')\"], \"type\": \"bar\", \"name\": \"Hogar 2, S1\"}], {\"title\": \"Gr\\u00e1fico de probabilidades de cada s\\u00edmbolo.\", \"xaxis\": {\"title\": \"S\\u00edmbolos\"}, \"yaxis\": {\"title\": \"Probabilidad\"}}, {\"linkText\": \"Export to plot.ly\", \"showLink\": true})});</script>"
      ],
      "text/vnd.plotly.v1+html": [
       "<div id=\"3016519d-b11a-47d5-b646-130a37ce2471\" style=\"height: 525px; width: 100%;\" class=\"plotly-graph-div\"></div><script type=\"text/javascript\">require([\"plotly\"], function(Plotly) { window.PLOTLYENV=window.PLOTLYENV || {};window.PLOTLYENV.BASE_URL=\"https://plot.ly\";Plotly.newPlot(\"3016519d-b11a-47d5-b646-130a37ce2471\", [{\"y\": [6.66666666667e-05, 0.0308, 0.0015666667000000002, 0.9278666667000001, 0.0046666667, 0.035033333300000004], \"x\": [\"('unicast', 'EAPOL')\", \"('broadcast', 'IP')\", \"('unicast', 'IPv6')\", \"('unicast', 'IP')\", \"('unicast', 'ARP')\", \"('broadcast', 'ARP')\"], \"type\": \"bar\", \"name\": \"Hogar 2, S1\"}], {\"title\": \"Gr\\u00e1fico de probabilidades de cada s\\u00edmbolo.\", \"xaxis\": {\"title\": \"S\\u00edmbolos\"}, \"yaxis\": {\"title\": \"Probabilidad\"}}, {\"linkText\": \"Export to plot.ly\", \"showLink\": true})});</script>"
      ]
     },
     "metadata": {},
     "output_type": "display_data"
    },
    {
     "data": {
      "application/vnd.plotly.v1+json": {
       "data": [
        {
         "name": "Trabajo, S1",
         "type": "bar",
         "x": [
          "('broadcast', 'LLC')",
          "('unicast', 'EAPOL')",
          "('broadcast', 'IP')",
          "('unicast', 'IPv6')",
          "('unicast', 'IP')",
          "('unicast', 'ARP')",
          "('broadcast', 'ARP')"
         ],
         "y": [
          0.00113333333333,
          0.0032,
          0.0296,
          0.005,
          0.913733333333,
          6.66666666667e-05,
          0.04726666666669999
         ]
        }
       ],
       "layout": {
        "title": "Gráfico de probabilidades de cada símbolo.",
        "xaxis": {
         "title": "Símbolos"
        },
        "yaxis": {
         "title": "Probabilidad"
        }
       }
      },
      "text/html": [
       "<div id=\"8b6b4610-95fb-4802-bea4-3f04f64181ed\" style=\"height: 525px; width: 100%;\" class=\"plotly-graph-div\"></div><script type=\"text/javascript\">require([\"plotly\"], function(Plotly) { window.PLOTLYENV=window.PLOTLYENV || {};window.PLOTLYENV.BASE_URL=\"https://plot.ly\";Plotly.newPlot(\"8b6b4610-95fb-4802-bea4-3f04f64181ed\", [{\"y\": [0.00113333333333, 0.0032, 0.0296, 0.005, 0.913733333333, 6.66666666667e-05, 0.04726666666669999], \"x\": [\"('broadcast', 'LLC')\", \"('unicast', 'EAPOL')\", \"('broadcast', 'IP')\", \"('unicast', 'IPv6')\", \"('unicast', 'IP')\", \"('unicast', 'ARP')\", \"('broadcast', 'ARP')\"], \"type\": \"bar\", \"name\": \"Trabajo, S1\"}], {\"title\": \"Gr\\u00e1fico de probabilidades de cada s\\u00edmbolo.\", \"xaxis\": {\"title\": \"S\\u00edmbolos\"}, \"yaxis\": {\"title\": \"Probabilidad\"}}, {\"linkText\": \"Export to plot.ly\", \"showLink\": true})});</script>"
      ],
      "text/vnd.plotly.v1+html": [
       "<div id=\"8b6b4610-95fb-4802-bea4-3f04f64181ed\" style=\"height: 525px; width: 100%;\" class=\"plotly-graph-div\"></div><script type=\"text/javascript\">require([\"plotly\"], function(Plotly) { window.PLOTLYENV=window.PLOTLYENV || {};window.PLOTLYENV.BASE_URL=\"https://plot.ly\";Plotly.newPlot(\"8b6b4610-95fb-4802-bea4-3f04f64181ed\", [{\"y\": [0.00113333333333, 0.0032, 0.0296, 0.005, 0.913733333333, 6.66666666667e-05, 0.04726666666669999], \"x\": [\"('broadcast', 'LLC')\", \"('unicast', 'EAPOL')\", \"('broadcast', 'IP')\", \"('unicast', 'IPv6')\", \"('unicast', 'IP')\", \"('unicast', 'ARP')\", \"('broadcast', 'ARP')\"], \"type\": \"bar\", \"name\": \"Trabajo, S1\"}], {\"title\": \"Gr\\u00e1fico de probabilidades de cada s\\u00edmbolo.\", \"xaxis\": {\"title\": \"S\\u00edmbolos\"}, \"yaxis\": {\"title\": \"Probabilidad\"}}, {\"linkText\": \"Export to plot.ly\", \"showLink\": true})});</script>"
      ]
     },
     "metadata": {},
     "output_type": "display_data"
    },
    {
     "data": {
      "application/vnd.plotly.v1+json": {
       "data": [
        {
         "name": "Laboratorio, S1",
         "type": "bar",
         "x": [
          "('broadcast', 'Raw')",
          "('broadcast', 'LLC')",
          "('broadcast', 'ARP')",
          "('unicast', 'IP')",
          "('unicast', 'IPv6')",
          "('broadcast', 'IP')",
          "('unicast', 'ARP')",
          "('unicast', 'LLC')"
         ],
         "y": [
          0.0012,
          0.0048,
          0.06033333333330001,
          0.5968,
          0.1634,
          0.170866666667,
          0.0019333333333299999,
          0.0006666666666669999
         ]
        }
       ],
       "layout": {
        "title": "Gráfico de probabilidades de cada símbolo.",
        "xaxis": {
         "title": "Símbolos"
        },
        "yaxis": {
         "title": "Probabilidad"
        }
       }
      },
      "text/html": [
       "<div id=\"554b34ed-157b-412c-9187-7bc83de4855a\" style=\"height: 525px; width: 100%;\" class=\"plotly-graph-div\"></div><script type=\"text/javascript\">require([\"plotly\"], function(Plotly) { window.PLOTLYENV=window.PLOTLYENV || {};window.PLOTLYENV.BASE_URL=\"https://plot.ly\";Plotly.newPlot(\"554b34ed-157b-412c-9187-7bc83de4855a\", [{\"y\": [0.0012, 0.0048, 0.06033333333330001, 0.5968, 0.1634, 0.170866666667, 0.0019333333333299999, 0.0006666666666669999], \"x\": [\"('broadcast', 'Raw')\", \"('broadcast', 'LLC')\", \"('broadcast', 'ARP')\", \"('unicast', 'IP')\", \"('unicast', 'IPv6')\", \"('broadcast', 'IP')\", \"('unicast', 'ARP')\", \"('unicast', 'LLC')\"], \"type\": \"bar\", \"name\": \"Laboratorio, S1\"}], {\"title\": \"Gr\\u00e1fico de probabilidades de cada s\\u00edmbolo.\", \"xaxis\": {\"title\": \"S\\u00edmbolos\"}, \"yaxis\": {\"title\": \"Probabilidad\"}}, {\"linkText\": \"Export to plot.ly\", \"showLink\": true})});</script>"
      ],
      "text/vnd.plotly.v1+html": [
       "<div id=\"554b34ed-157b-412c-9187-7bc83de4855a\" style=\"height: 525px; width: 100%;\" class=\"plotly-graph-div\"></div><script type=\"text/javascript\">require([\"plotly\"], function(Plotly) { window.PLOTLYENV=window.PLOTLYENV || {};window.PLOTLYENV.BASE_URL=\"https://plot.ly\";Plotly.newPlot(\"554b34ed-157b-412c-9187-7bc83de4855a\", [{\"y\": [0.0012, 0.0048, 0.06033333333330001, 0.5968, 0.1634, 0.170866666667, 0.0019333333333299999, 0.0006666666666669999], \"x\": [\"('broadcast', 'Raw')\", \"('broadcast', 'LLC')\", \"('broadcast', 'ARP')\", \"('unicast', 'IP')\", \"('unicast', 'IPv6')\", \"('broadcast', 'IP')\", \"('unicast', 'ARP')\", \"('unicast', 'LLC')\"], \"type\": \"bar\", \"name\": \"Laboratorio, S1\"}], {\"title\": \"Gr\\u00e1fico de probabilidades de cada s\\u00edmbolo.\", \"xaxis\": {\"title\": \"S\\u00edmbolos\"}, \"yaxis\": {\"title\": \"Probabilidad\"}}, {\"linkText\": \"Export to plot.ly\", \"showLink\": true})});</script>"
      ]
     },
     "metadata": {},
     "output_type": "display_data"
    },
    {
     "data": {
      "application/vnd.plotly.v1+json": {
       "data": [
        {
         "name": "Hogar 1, S1",
         "type": "bar",
         "x": [
          "('unicast', 'IP')",
          "('broadcast', 'IP')",
          "('broadcast', 'ARP')",
          "('unicast', 'IPv6')",
          "('unicast', 'ARP')"
         ],
         "y": [
          0.0485614057687,
          5.37282899319,
          8.587272661410001,
          7.31808602859,
          13.2877123795
         ]
        },
        {
         "mode": "lines",
         "name": "Entropía de Hogar 1, S1",
         "type": "scatter",
         "x": [
          "('unicast', 'IP')",
          "('broadcast', 'IP')",
          "('broadcast', 'ARP')",
          "('unicast', 'IPv6')",
          "('unicast', 'ARP')"
         ],
         "y": [
          0.24613398221000002,
          0.24613398221000002,
          0.24613398221000002,
          0.24613398221000002,
          0.24613398221000002
         ]
        },
        {
         "name": "Hogar 2, S1",
         "type": "bar",
         "x": [
          "('unicast', 'EAPOL')",
          "('broadcast', 'IP')",
          "('unicast', 'IPv6')",
          "('unicast', 'IP')",
          "('unicast', 'ARP')",
          "('broadcast', 'ARP')"
         ],
         "y": [
          13.8726748803,
          5.0209258389,
          9.3180860286,
          0.10801058820000001,
          7.7433918633,
          4.8351279263
         ]
        },
        {
         "mode": "lines",
         "name": "Entropía de Hogar 2, S1",
         "type": "scatter",
         "x": [
          "('unicast', 'EAPOL')",
          "('broadcast', 'IP')",
          "('unicast', 'IPv6')",
          "('unicast', 'IP')",
          "('unicast', 'ARP')",
          "('broadcast', 'ARP')"
         ],
         "y": [
          0.47591359710000003,
          0.47591359710000003,
          0.47591359710000003,
          0.47591359710000003,
          0.47591359710000003,
          0.47591359710000003
         ]
        },
        {
         "name": "Trabajo, S1",
         "type": "bar",
         "x": [
          "('broadcast', 'LLC')",
          "('unicast', 'EAPOL')",
          "('broadcast', 'IP')",
          "('unicast', 'IPv6')",
          "('unicast', 'IP')",
          "('unicast', 'ARP')",
          "('broadcast', 'ARP')"
         ],
         "y": [
          9.78521203902,
          8.287712379550001,
          5.0782590139199995,
          7.64385618977,
          0.130154908609,
          13.8726748803,
          4.4030330630300005
         ]
        },
        {
         "mode": "lines",
         "name": "Entropía de Trabajo, S1",
         "type": "scatter",
         "x": [
          "('broadcast', 'LLC')",
          "('unicast', 'EAPOL')",
          "('broadcast', 'IP')",
          "('unicast', 'IPv6')",
          "('unicast', 'IP')",
          "('unicast', 'ARP')",
          "('broadcast', 'ARP')"
         ],
         "y": [
          0.554114753951,
          0.554114753951,
          0.554114753951,
          0.554114753951,
          0.554114753951,
          0.554114753951,
          0.554114753951
         ]
        },
        {
         "name": "Laboratorio, S1",
         "type": "bar",
         "x": [
          "('broadcast', 'Raw')",
          "('broadcast', 'LLC')",
          "('broadcast', 'ARP')",
          "('unicast', 'IP')",
          "('unicast', 'IPv6')",
          "('broadcast', 'IP')",
          "('unicast', 'ARP')",
          "('unicast', 'LLC')"
         ],
         "y": [
          9.70274987883,
          7.70274987883,
          4.0509008983,
          0.744680559294,
          2.6135201113999997,
          2.54905711698,
          9.01469388514,
          10.5507467854
         ]
        },
        {
         "mode": "lines",
         "name": "Entropía de Laboratorio, S1",
         "type": "scatter",
         "x": [
          "('broadcast', 'Raw')",
          "('broadcast', 'LLC')",
          "('broadcast', 'ARP')",
          "('unicast', 'IP')",
          "('unicast', 'IPv6')",
          "('broadcast', 'IP')",
          "('unicast', 'ARP')",
          "('unicast', 'LLC')"
         ],
         "y": [
          1.62450652955,
          1.62450652955,
          1.62450652955,
          1.62450652955,
          1.62450652955,
          1.62450652955,
          1.62450652955,
          1.62450652955
         ]
        }
       ],
       "layout": {
        "title": "Comparación de información entre todas las redes",
        "xaxis": {
         "title": "Símbolos"
        },
        "yaxis": {
         "title": "Información"
        }
       }
      },
      "text/html": [
       "<div id=\"8ba30b55-10d0-4f99-9690-efd3ee141133\" style=\"height: 525px; width: 100%;\" class=\"plotly-graph-div\"></div><script type=\"text/javascript\">require([\"plotly\"], function(Plotly) { window.PLOTLYENV=window.PLOTLYENV || {};window.PLOTLYENV.BASE_URL=\"https://plot.ly\";Plotly.newPlot(\"8ba30b55-10d0-4f99-9690-efd3ee141133\", [{\"y\": [0.0485614057687, 5.37282899319, 8.587272661410001, 7.31808602859, 13.2877123795], \"x\": [\"('unicast', 'IP')\", \"('broadcast', 'IP')\", \"('broadcast', 'ARP')\", \"('unicast', 'IPv6')\", \"('unicast', 'ARP')\"], \"type\": \"bar\", \"name\": \"Hogar 1, S1\"}, {\"y\": [0.24613398221000002, 0.24613398221000002, 0.24613398221000002, 0.24613398221000002, 0.24613398221000002], \"x\": [\"('unicast', 'IP')\", \"('broadcast', 'IP')\", \"('broadcast', 'ARP')\", \"('unicast', 'IPv6')\", \"('unicast', 'ARP')\"], \"type\": \"scatter\", \"name\": \"Entrop\\u00eda de Hogar 1, S1\", \"mode\": \"lines\"}, {\"y\": [13.8726748803, 5.0209258389, 9.3180860286, 0.10801058820000001, 7.7433918633, 4.8351279263], \"x\": [\"('unicast', 'EAPOL')\", \"('broadcast', 'IP')\", \"('unicast', 'IPv6')\", \"('unicast', 'IP')\", \"('unicast', 'ARP')\", \"('broadcast', 'ARP')\"], \"type\": \"bar\", \"name\": \"Hogar 2, S1\"}, {\"y\": [0.47591359710000003, 0.47591359710000003, 0.47591359710000003, 0.47591359710000003, 0.47591359710000003, 0.47591359710000003], \"x\": [\"('unicast', 'EAPOL')\", \"('broadcast', 'IP')\", \"('unicast', 'IPv6')\", \"('unicast', 'IP')\", \"('unicast', 'ARP')\", \"('broadcast', 'ARP')\"], \"type\": \"scatter\", \"name\": \"Entrop\\u00eda de Hogar 2, S1\", \"mode\": \"lines\"}, {\"y\": [9.78521203902, 8.287712379550001, 5.0782590139199995, 7.64385618977, 0.130154908609, 13.8726748803, 4.4030330630300005], \"x\": [\"('broadcast', 'LLC')\", \"('unicast', 'EAPOL')\", \"('broadcast', 'IP')\", \"('unicast', 'IPv6')\", \"('unicast', 'IP')\", \"('unicast', 'ARP')\", \"('broadcast', 'ARP')\"], \"type\": \"bar\", \"name\": \"Trabajo, S1\"}, {\"y\": [0.554114753951, 0.554114753951, 0.554114753951, 0.554114753951, 0.554114753951, 0.554114753951, 0.554114753951], \"x\": [\"('broadcast', 'LLC')\", \"('unicast', 'EAPOL')\", \"('broadcast', 'IP')\", \"('unicast', 'IPv6')\", \"('unicast', 'IP')\", \"('unicast', 'ARP')\", \"('broadcast', 'ARP')\"], \"type\": \"scatter\", \"name\": \"Entrop\\u00eda de Trabajo, S1\", \"mode\": \"lines\"}, {\"y\": [9.70274987883, 7.70274987883, 4.0509008983, 0.744680559294, 2.6135201113999997, 2.54905711698, 9.01469388514, 10.5507467854], \"x\": [\"('broadcast', 'Raw')\", \"('broadcast', 'LLC')\", \"('broadcast', 'ARP')\", \"('unicast', 'IP')\", \"('unicast', 'IPv6')\", \"('broadcast', 'IP')\", \"('unicast', 'ARP')\", \"('unicast', 'LLC')\"], \"type\": \"bar\", \"name\": \"Laboratorio, S1\"}, {\"y\": [1.62450652955, 1.62450652955, 1.62450652955, 1.62450652955, 1.62450652955, 1.62450652955, 1.62450652955, 1.62450652955], \"x\": [\"('broadcast', 'Raw')\", \"('broadcast', 'LLC')\", \"('broadcast', 'ARP')\", \"('unicast', 'IP')\", \"('unicast', 'IPv6')\", \"('broadcast', 'IP')\", \"('unicast', 'ARP')\", \"('unicast', 'LLC')\"], \"type\": \"scatter\", \"name\": \"Entrop\\u00eda de Laboratorio, S1\", \"mode\": \"lines\"}], {\"title\": \"Comparaci\\u00f3n de informaci\\u00f3n entre todas las redes\", \"xaxis\": {\"title\": \"S\\u00edmbolos\"}, \"yaxis\": {\"title\": \"Informaci\\u00f3n\"}}, {\"linkText\": \"Export to plot.ly\", \"showLink\": true})});</script>"
      ],
      "text/vnd.plotly.v1+html": [
       "<div id=\"8ba30b55-10d0-4f99-9690-efd3ee141133\" style=\"height: 525px; width: 100%;\" class=\"plotly-graph-div\"></div><script type=\"text/javascript\">require([\"plotly\"], function(Plotly) { window.PLOTLYENV=window.PLOTLYENV || {};window.PLOTLYENV.BASE_URL=\"https://plot.ly\";Plotly.newPlot(\"8ba30b55-10d0-4f99-9690-efd3ee141133\", [{\"y\": [0.0485614057687, 5.37282899319, 8.587272661410001, 7.31808602859, 13.2877123795], \"x\": [\"('unicast', 'IP')\", \"('broadcast', 'IP')\", \"('broadcast', 'ARP')\", \"('unicast', 'IPv6')\", \"('unicast', 'ARP')\"], \"type\": \"bar\", \"name\": \"Hogar 1, S1\"}, {\"y\": [0.24613398221000002, 0.24613398221000002, 0.24613398221000002, 0.24613398221000002, 0.24613398221000002], \"x\": [\"('unicast', 'IP')\", \"('broadcast', 'IP')\", \"('broadcast', 'ARP')\", \"('unicast', 'IPv6')\", \"('unicast', 'ARP')\"], \"type\": \"scatter\", \"name\": \"Entrop\\u00eda de Hogar 1, S1\", \"mode\": \"lines\"}, {\"y\": [13.8726748803, 5.0209258389, 9.3180860286, 0.10801058820000001, 7.7433918633, 4.8351279263], \"x\": [\"('unicast', 'EAPOL')\", \"('broadcast', 'IP')\", \"('unicast', 'IPv6')\", \"('unicast', 'IP')\", \"('unicast', 'ARP')\", \"('broadcast', 'ARP')\"], \"type\": \"bar\", \"name\": \"Hogar 2, S1\"}, {\"y\": [0.47591359710000003, 0.47591359710000003, 0.47591359710000003, 0.47591359710000003, 0.47591359710000003, 0.47591359710000003], \"x\": [\"('unicast', 'EAPOL')\", \"('broadcast', 'IP')\", \"('unicast', 'IPv6')\", \"('unicast', 'IP')\", \"('unicast', 'ARP')\", \"('broadcast', 'ARP')\"], \"type\": \"scatter\", \"name\": \"Entrop\\u00eda de Hogar 2, S1\", \"mode\": \"lines\"}, {\"y\": [9.78521203902, 8.287712379550001, 5.0782590139199995, 7.64385618977, 0.130154908609, 13.8726748803, 4.4030330630300005], \"x\": [\"('broadcast', 'LLC')\", \"('unicast', 'EAPOL')\", \"('broadcast', 'IP')\", \"('unicast', 'IPv6')\", \"('unicast', 'IP')\", \"('unicast', 'ARP')\", \"('broadcast', 'ARP')\"], \"type\": \"bar\", \"name\": \"Trabajo, S1\"}, {\"y\": [0.554114753951, 0.554114753951, 0.554114753951, 0.554114753951, 0.554114753951, 0.554114753951, 0.554114753951], \"x\": [\"('broadcast', 'LLC')\", \"('unicast', 'EAPOL')\", \"('broadcast', 'IP')\", \"('unicast', 'IPv6')\", \"('unicast', 'IP')\", \"('unicast', 'ARP')\", \"('broadcast', 'ARP')\"], \"type\": \"scatter\", \"name\": \"Entrop\\u00eda de Trabajo, S1\", \"mode\": \"lines\"}, {\"y\": [9.70274987883, 7.70274987883, 4.0509008983, 0.744680559294, 2.6135201113999997, 2.54905711698, 9.01469388514, 10.5507467854], \"x\": [\"('broadcast', 'Raw')\", \"('broadcast', 'LLC')\", \"('broadcast', 'ARP')\", \"('unicast', 'IP')\", \"('unicast', 'IPv6')\", \"('broadcast', 'IP')\", \"('unicast', 'ARP')\", \"('unicast', 'LLC')\"], \"type\": \"bar\", \"name\": \"Laboratorio, S1\"}, {\"y\": [1.62450652955, 1.62450652955, 1.62450652955, 1.62450652955, 1.62450652955, 1.62450652955, 1.62450652955, 1.62450652955], \"x\": [\"('broadcast', 'Raw')\", \"('broadcast', 'LLC')\", \"('broadcast', 'ARP')\", \"('unicast', 'IP')\", \"('unicast', 'IPv6')\", \"('broadcast', 'IP')\", \"('unicast', 'ARP')\", \"('unicast', 'LLC')\"], \"type\": \"scatter\", \"name\": \"Entrop\\u00eda de Laboratorio, S1\", \"mode\": \"lines\"}], {\"title\": \"Comparaci\\u00f3n de informaci\\u00f3n entre todas las redes\", \"xaxis\": {\"title\": \"S\\u00edmbolos\"}, \"yaxis\": {\"title\": \"Informaci\\u00f3n\"}}, {\"linkText\": \"Export to plot.ly\", \"showLink\": true})});</script>"
      ]
     },
     "metadata": {},
     "output_type": "display_data"
    },
    {
     "data": {
      "application/vnd.plotly.v1+json": {
       "data": [
        {
         "name": "Red Hogar 1, S2",
         "type": "bar",
         "x": [
          "192.168.0.26",
          "192.168.0.1",
          "192.168.0.10",
          "192.168.0.7",
          "192.168.0.12",
          "192.168.0.13",
          "192.168.0.9",
          "192.168.0.19"
         ],
         "y": [
          4.70043971814,
          0.504042505338,
          4.70043971814,
          4.28540221886,
          4.28540221886,
          4.28540221886,
          5.28540221886,
          4.70043971814
         ]
        },
        {
         "mode": "lines",
         "name": "Entropía de Red Hogar 1, S2",
         "type": "scatter",
         "x": [
          "192.168.0.26",
          "192.168.0.1",
          "192.168.0.10",
          "192.168.0.7",
          "192.168.0.12",
          "192.168.0.13",
          "192.168.0.9",
          "192.168.0.19"
         ],
         "y": [
          1.69258879899,
          1.69258879899,
          1.69258879899,
          1.69258879899,
          1.69258879899,
          1.69258879899,
          1.69258879899,
          1.69258879899
         ]
        }
       ],
       "layout": {
        "title": "Gráfico de información de cada símbolo.",
        "xaxis": {
         "title": "Símbolos"
        },
        "yaxis": {
         "title": "Información"
        }
       }
      },
      "text/html": [
       "<div id=\"bd62fc12-35f7-4308-b23d-9b58a919b254\" style=\"height: 525px; width: 100%;\" class=\"plotly-graph-div\"></div><script type=\"text/javascript\">require([\"plotly\"], function(Plotly) { window.PLOTLYENV=window.PLOTLYENV || {};window.PLOTLYENV.BASE_URL=\"https://plot.ly\";Plotly.newPlot(\"bd62fc12-35f7-4308-b23d-9b58a919b254\", [{\"y\": [4.70043971814, 0.504042505338, 4.70043971814, 4.28540221886, 4.28540221886, 4.28540221886, 5.28540221886, 4.70043971814], \"x\": [\"192.168.0.26\", \"192.168.0.1\", \"192.168.0.10\", \"192.168.0.7\", \"192.168.0.12\", \"192.168.0.13\", \"192.168.0.9\", \"192.168.0.19\"], \"type\": \"bar\", \"name\": \"Red Hogar 1, S2\"}, {\"y\": [1.69258879899, 1.69258879899, 1.69258879899, 1.69258879899, 1.69258879899, 1.69258879899, 1.69258879899, 1.69258879899], \"x\": [\"192.168.0.26\", \"192.168.0.1\", \"192.168.0.10\", \"192.168.0.7\", \"192.168.0.12\", \"192.168.0.13\", \"192.168.0.9\", \"192.168.0.19\"], \"type\": \"scatter\", \"name\": \"Entrop\\u00eda de Red Hogar 1, S2\", \"mode\": \"lines\"}], {\"title\": \"Gr\\u00e1fico de informaci\\u00f3n de cada s\\u00edmbolo.\", \"xaxis\": {\"title\": \"S\\u00edmbolos\"}, \"yaxis\": {\"title\": \"Informaci\\u00f3n\"}}, {\"linkText\": \"Export to plot.ly\", \"showLink\": true})});</script>"
      ],
      "text/vnd.plotly.v1+html": [
       "<div id=\"bd62fc12-35f7-4308-b23d-9b58a919b254\" style=\"height: 525px; width: 100%;\" class=\"plotly-graph-div\"></div><script type=\"text/javascript\">require([\"plotly\"], function(Plotly) { window.PLOTLYENV=window.PLOTLYENV || {};window.PLOTLYENV.BASE_URL=\"https://plot.ly\";Plotly.newPlot(\"bd62fc12-35f7-4308-b23d-9b58a919b254\", [{\"y\": [4.70043971814, 0.504042505338, 4.70043971814, 4.28540221886, 4.28540221886, 4.28540221886, 5.28540221886, 4.70043971814], \"x\": [\"192.168.0.26\", \"192.168.0.1\", \"192.168.0.10\", \"192.168.0.7\", \"192.168.0.12\", \"192.168.0.13\", \"192.168.0.9\", \"192.168.0.19\"], \"type\": \"bar\", \"name\": \"Red Hogar 1, S2\"}, {\"y\": [1.69258879899, 1.69258879899, 1.69258879899, 1.69258879899, 1.69258879899, 1.69258879899, 1.69258879899, 1.69258879899], \"x\": [\"192.168.0.26\", \"192.168.0.1\", \"192.168.0.10\", \"192.168.0.7\", \"192.168.0.12\", \"192.168.0.13\", \"192.168.0.9\", \"192.168.0.19\"], \"type\": \"scatter\", \"name\": \"Entrop\\u00eda de Red Hogar 1, S2\", \"mode\": \"lines\"}], {\"title\": \"Gr\\u00e1fico de informaci\\u00f3n de cada s\\u00edmbolo.\", \"xaxis\": {\"title\": \"S\\u00edmbolos\"}, \"yaxis\": {\"title\": \"Informaci\\u00f3n\"}}, {\"linkText\": \"Export to plot.ly\", \"showLink\": true})});</script>"
      ]
     },
     "metadata": {},
     "output_type": "display_data"
    },
    {
     "data": {
      "application/vnd.plotly.v1+json": {
       "data": [
        {
         "name": "Red Hogar 2, S2",
         "type": "bar",
         "x": [
          "192.168.0.184",
          "192.168.0.151",
          "169.254.148.1",
          "192.168.0.105",
          "192.168.0.104",
          "192.168.0.1",
          "192.168.0.100",
          "192.168.0.110",
          "192.168.0.102",
          "192.168.0.109",
          "192.168.0.108",
          "192.168.0.119"
         ],
         "y": [
          3.4555689789999997,
          9.127994321000001,
          8.127994321000001,
          6.4275546028,
          10.127994321000001,
          0.7529548895999999,
          6.5430318202999995,
          9.127994321000001,
          2.5505654929,
          4.0405314797,
          4.4275546028,
          7.127994321
         ]
        },
        {
         "mode": "lines",
         "name": "Entropía de Red Hogar 2, S2",
         "type": "scatter",
         "x": [
          "192.168.0.184",
          "192.168.0.151",
          "169.254.148.1",
          "192.168.0.105",
          "192.168.0.104",
          "192.168.0.1",
          "192.168.0.100",
          "192.168.0.110",
          "192.168.0.102",
          "192.168.0.109",
          "192.168.0.108",
          "192.168.0.119"
         ],
         "y": [
          1.9149486746000002,
          1.9149486746000002,
          1.9149486746000002,
          1.9149486746000002,
          1.9149486746000002,
          1.9149486746000002,
          1.9149486746000002,
          1.9149486746000002,
          1.9149486746000002,
          1.9149486746000002,
          1.9149486746000002,
          1.9149486746000002
         ]
        }
       ],
       "layout": {
        "title": "Gráfico de información de cada símbolo.",
        "xaxis": {
         "title": "Símbolos"
        },
        "yaxis": {
         "title": "Información"
        }
       }
      },
      "text/html": [
       "<div id=\"506d1f6c-fa52-44d2-a3aa-86eeae78e3a4\" style=\"height: 525px; width: 100%;\" class=\"plotly-graph-div\"></div><script type=\"text/javascript\">require([\"plotly\"], function(Plotly) { window.PLOTLYENV=window.PLOTLYENV || {};window.PLOTLYENV.BASE_URL=\"https://plot.ly\";Plotly.newPlot(\"506d1f6c-fa52-44d2-a3aa-86eeae78e3a4\", [{\"y\": [3.4555689789999997, 9.127994321000001, 8.127994321000001, 6.4275546028, 10.127994321000001, 0.7529548895999999, 6.5430318202999995, 9.127994321000001, 2.5505654929, 4.0405314797, 4.4275546028, 7.127994321], \"x\": [\"192.168.0.184\", \"192.168.0.151\", \"169.254.148.1\", \"192.168.0.105\", \"192.168.0.104\", \"192.168.0.1\", \"192.168.0.100\", \"192.168.0.110\", \"192.168.0.102\", \"192.168.0.109\", \"192.168.0.108\", \"192.168.0.119\"], \"type\": \"bar\", \"name\": \"Red Hogar 2, S2\"}, {\"y\": [1.9149486746000002, 1.9149486746000002, 1.9149486746000002, 1.9149486746000002, 1.9149486746000002, 1.9149486746000002, 1.9149486746000002, 1.9149486746000002, 1.9149486746000002, 1.9149486746000002, 1.9149486746000002, 1.9149486746000002], \"x\": [\"192.168.0.184\", \"192.168.0.151\", \"169.254.148.1\", \"192.168.0.105\", \"192.168.0.104\", \"192.168.0.1\", \"192.168.0.100\", \"192.168.0.110\", \"192.168.0.102\", \"192.168.0.109\", \"192.168.0.108\", \"192.168.0.119\"], \"type\": \"scatter\", \"name\": \"Entrop\\u00eda de Red Hogar 2, S2\", \"mode\": \"lines\"}], {\"title\": \"Gr\\u00e1fico de informaci\\u00f3n de cada s\\u00edmbolo.\", \"xaxis\": {\"title\": \"S\\u00edmbolos\"}, \"yaxis\": {\"title\": \"Informaci\\u00f3n\"}}, {\"linkText\": \"Export to plot.ly\", \"showLink\": true})});</script>"
      ],
      "text/vnd.plotly.v1+html": [
       "<div id=\"506d1f6c-fa52-44d2-a3aa-86eeae78e3a4\" style=\"height: 525px; width: 100%;\" class=\"plotly-graph-div\"></div><script type=\"text/javascript\">require([\"plotly\"], function(Plotly) { window.PLOTLYENV=window.PLOTLYENV || {};window.PLOTLYENV.BASE_URL=\"https://plot.ly\";Plotly.newPlot(\"506d1f6c-fa52-44d2-a3aa-86eeae78e3a4\", [{\"y\": [3.4555689789999997, 9.127994321000001, 8.127994321000001, 6.4275546028, 10.127994321000001, 0.7529548895999999, 6.5430318202999995, 9.127994321000001, 2.5505654929, 4.0405314797, 4.4275546028, 7.127994321], \"x\": [\"192.168.0.184\", \"192.168.0.151\", \"169.254.148.1\", \"192.168.0.105\", \"192.168.0.104\", \"192.168.0.1\", \"192.168.0.100\", \"192.168.0.110\", \"192.168.0.102\", \"192.168.0.109\", \"192.168.0.108\", \"192.168.0.119\"], \"type\": \"bar\", \"name\": \"Red Hogar 2, S2\"}, {\"y\": [1.9149486746000002, 1.9149486746000002, 1.9149486746000002, 1.9149486746000002, 1.9149486746000002, 1.9149486746000002, 1.9149486746000002, 1.9149486746000002, 1.9149486746000002, 1.9149486746000002, 1.9149486746000002, 1.9149486746000002], \"x\": [\"192.168.0.184\", \"192.168.0.151\", \"169.254.148.1\", \"192.168.0.105\", \"192.168.0.104\", \"192.168.0.1\", \"192.168.0.100\", \"192.168.0.110\", \"192.168.0.102\", \"192.168.0.109\", \"192.168.0.108\", \"192.168.0.119\"], \"type\": \"scatter\", \"name\": \"Entrop\\u00eda de Red Hogar 2, S2\", \"mode\": \"lines\"}], {\"title\": \"Gr\\u00e1fico de informaci\\u00f3n de cada s\\u00edmbolo.\", \"xaxis\": {\"title\": \"S\\u00edmbolos\"}, \"yaxis\": {\"title\": \"Informaci\\u00f3n\"}}, {\"linkText\": \"Export to plot.ly\", \"showLink\": true})});</script>"
      ]
     },
     "metadata": {},
     "output_type": "display_data"
    },
    {
     "data": {
      "application/vnd.plotly.v1+json": {
       "data": [
        {
         "name": "Red Trabajo, S2",
         "type": "bar",
         "x": [
          "10.24.32.160",
          "10.24.32.162",
          "10.24.32.163",
          "10.24.32.176",
          "10.24.32.178",
          "10.24.32.184",
          "10.24.32.199",
          "10.24.32.221",
          "10.24.32.222",
          "10.24.32.32",
          "10.24.32.38",
          "10.24.32.39",
          "10.24.32.40",
          "10.24.32.64",
          "10.24.32.71",
          "10.24.32.75",
          "10.24.32.82",
          "10.24.32.84",
          "10.24.32.89",
          "10.24.32.93"
         ],
         "y": [
          9.46964181724,
          9.46964181724,
          9.46964181724,
          9.46964181724,
          9.46964181724,
          9.46964181724,
          9.46964181724,
          9.46964181724,
          9.46964181724,
          9.46964181724,
          9.46964181724,
          9.46964181724,
          9.46964181724,
          9.46964181724,
          9.46964181724,
          9.46964181724,
          9.46964181724,
          9.46964181724,
          9.46964181724,
          9.46964181724
         ]
        },
        {
         "mode": "lines",
         "name": "Entropía de Red Trabajo, S2",
         "type": "scatter",
         "x": [
          "10.24.32.160",
          "10.24.32.162",
          "10.24.32.163",
          "10.24.32.176",
          "10.24.32.178",
          "10.24.32.184",
          "10.24.32.199",
          "10.24.32.221",
          "10.24.32.222",
          "10.24.32.32",
          "10.24.32.38",
          "10.24.32.39",
          "10.24.32.40",
          "10.24.32.64",
          "10.24.32.71",
          "10.24.32.75",
          "10.24.32.82",
          "10.24.32.84",
          "10.24.32.89",
          "10.24.32.93"
         ],
         "y": [
          2.4370794904400004,
          2.4370794904400004,
          2.4370794904400004,
          2.4370794904400004,
          2.4370794904400004,
          2.4370794904400004,
          2.4370794904400004,
          2.4370794904400004,
          2.4370794904400004,
          2.4370794904400004,
          2.4370794904400004,
          2.4370794904400004,
          2.4370794904400004,
          2.4370794904400004,
          2.4370794904400004,
          2.4370794904400004,
          2.4370794904400004,
          2.4370794904400004,
          2.4370794904400004,
          2.4370794904400004
         ]
        }
       ],
       "layout": {
        "title": "Gráfico de información de cada símbolo.",
        "xaxis": {
         "title": "Símbolos"
        },
        "yaxis": {
         "title": "Información"
        }
       }
      },
      "text/html": [
       "<div id=\"c3fd3e62-52b8-43ba-85f2-a59208b4269c\" style=\"height: 525px; width: 100%;\" class=\"plotly-graph-div\"></div><script type=\"text/javascript\">require([\"plotly\"], function(Plotly) { window.PLOTLYENV=window.PLOTLYENV || {};window.PLOTLYENV.BASE_URL=\"https://plot.ly\";Plotly.newPlot(\"c3fd3e62-52b8-43ba-85f2-a59208b4269c\", [{\"y\": [9.46964181724, 9.46964181724, 9.46964181724, 9.46964181724, 9.46964181724, 9.46964181724, 9.46964181724, 9.46964181724, 9.46964181724, 9.46964181724, 9.46964181724, 9.46964181724, 9.46964181724, 9.46964181724, 9.46964181724, 9.46964181724, 9.46964181724, 9.46964181724, 9.46964181724, 9.46964181724], \"x\": [\"10.24.32.160\", \"10.24.32.162\", \"10.24.32.163\", \"10.24.32.176\", \"10.24.32.178\", \"10.24.32.184\", \"10.24.32.199\", \"10.24.32.221\", \"10.24.32.222\", \"10.24.32.32\", \"10.24.32.38\", \"10.24.32.39\", \"10.24.32.40\", \"10.24.32.64\", \"10.24.32.71\", \"10.24.32.75\", \"10.24.32.82\", \"10.24.32.84\", \"10.24.32.89\", \"10.24.32.93\"], \"type\": \"bar\", \"name\": \"Red Trabajo, S2\"}, {\"y\": [2.4370794904400004, 2.4370794904400004, 2.4370794904400004, 2.4370794904400004, 2.4370794904400004, 2.4370794904400004, 2.4370794904400004, 2.4370794904400004, 2.4370794904400004, 2.4370794904400004, 2.4370794904400004, 2.4370794904400004, 2.4370794904400004, 2.4370794904400004, 2.4370794904400004, 2.4370794904400004, 2.4370794904400004, 2.4370794904400004, 2.4370794904400004, 2.4370794904400004], \"x\": [\"10.24.32.160\", \"10.24.32.162\", \"10.24.32.163\", \"10.24.32.176\", \"10.24.32.178\", \"10.24.32.184\", \"10.24.32.199\", \"10.24.32.221\", \"10.24.32.222\", \"10.24.32.32\", \"10.24.32.38\", \"10.24.32.39\", \"10.24.32.40\", \"10.24.32.64\", \"10.24.32.71\", \"10.24.32.75\", \"10.24.32.82\", \"10.24.32.84\", \"10.24.32.89\", \"10.24.32.93\"], \"type\": \"scatter\", \"name\": \"Entrop\\u00eda de Red Trabajo, S2\", \"mode\": \"lines\"}], {\"title\": \"Gr\\u00e1fico de informaci\\u00f3n de cada s\\u00edmbolo.\", \"xaxis\": {\"title\": \"S\\u00edmbolos\"}, \"yaxis\": {\"title\": \"Informaci\\u00f3n\"}}, {\"linkText\": \"Export to plot.ly\", \"showLink\": true})});</script>"
      ],
      "text/vnd.plotly.v1+html": [
       "<div id=\"c3fd3e62-52b8-43ba-85f2-a59208b4269c\" style=\"height: 525px; width: 100%;\" class=\"plotly-graph-div\"></div><script type=\"text/javascript\">require([\"plotly\"], function(Plotly) { window.PLOTLYENV=window.PLOTLYENV || {};window.PLOTLYENV.BASE_URL=\"https://plot.ly\";Plotly.newPlot(\"c3fd3e62-52b8-43ba-85f2-a59208b4269c\", [{\"y\": [9.46964181724, 9.46964181724, 9.46964181724, 9.46964181724, 9.46964181724, 9.46964181724, 9.46964181724, 9.46964181724, 9.46964181724, 9.46964181724, 9.46964181724, 9.46964181724, 9.46964181724, 9.46964181724, 9.46964181724, 9.46964181724, 9.46964181724, 9.46964181724, 9.46964181724, 9.46964181724], \"x\": [\"10.24.32.160\", \"10.24.32.162\", \"10.24.32.163\", \"10.24.32.176\", \"10.24.32.178\", \"10.24.32.184\", \"10.24.32.199\", \"10.24.32.221\", \"10.24.32.222\", \"10.24.32.32\", \"10.24.32.38\", \"10.24.32.39\", \"10.24.32.40\", \"10.24.32.64\", \"10.24.32.71\", \"10.24.32.75\", \"10.24.32.82\", \"10.24.32.84\", \"10.24.32.89\", \"10.24.32.93\"], \"type\": \"bar\", \"name\": \"Red Trabajo, S2\"}, {\"y\": [2.4370794904400004, 2.4370794904400004, 2.4370794904400004, 2.4370794904400004, 2.4370794904400004, 2.4370794904400004, 2.4370794904400004, 2.4370794904400004, 2.4370794904400004, 2.4370794904400004, 2.4370794904400004, 2.4370794904400004, 2.4370794904400004, 2.4370794904400004, 2.4370794904400004, 2.4370794904400004, 2.4370794904400004, 2.4370794904400004, 2.4370794904400004, 2.4370794904400004], \"x\": [\"10.24.32.160\", \"10.24.32.162\", \"10.24.32.163\", \"10.24.32.176\", \"10.24.32.178\", \"10.24.32.184\", \"10.24.32.199\", \"10.24.32.221\", \"10.24.32.222\", \"10.24.32.32\", \"10.24.32.38\", \"10.24.32.39\", \"10.24.32.40\", \"10.24.32.64\", \"10.24.32.71\", \"10.24.32.75\", \"10.24.32.82\", \"10.24.32.84\", \"10.24.32.89\", \"10.24.32.93\"], \"type\": \"scatter\", \"name\": \"Entrop\\u00eda de Red Trabajo, S2\", \"mode\": \"lines\"}], {\"title\": \"Gr\\u00e1fico de informaci\\u00f3n de cada s\\u00edmbolo.\", \"xaxis\": {\"title\": \"S\\u00edmbolos\"}, \"yaxis\": {\"title\": \"Informaci\\u00f3n\"}}, {\"linkText\": \"Export to plot.ly\", \"showLink\": true})});</script>"
      ]
     },
     "metadata": {},
     "output_type": "display_data"
    },
    {
     "data": {
      "application/vnd.plotly.v1+json": {
       "data": [
        {
         "name": "Red Laboratorio, S2",
         "type": "bar",
         "x": [
          "10.2.6.8",
          "10.2.6.9",
          "10.2.7.10",
          "10.2.7.11",
          "10.2.7.12",
          "10.2.7.14",
          "10.2.7.15",
          "10.2.7.17",
          "10.2.7.18",
          "10.2.7.19",
          "10.2.7.2",
          "10.2.7.20",
          "10.2.7.21",
          "10.2.7.22",
          "10.2.7.23",
          "10.2.7.24",
          "10.2.7.25",
          "10.2.7.4",
          "10.2.7.5",
          "10.2.7.9"
         ],
         "y": [
          9.84235034341,
          9.84235034341,
          9.84235034341,
          9.84235034341,
          9.84235034341,
          9.84235034341,
          9.84235034341,
          9.84235034341,
          9.84235034341,
          9.84235034341,
          9.84235034341,
          9.84235034341,
          9.84235034341,
          9.84235034341,
          9.84235034341,
          9.84235034341,
          9.84235034341,
          9.84235034341,
          9.84235034341,
          9.84235034341
         ]
        },
        {
         "mode": "lines",
         "name": "Entropía de Red Laboratorio, S2",
         "type": "scatter",
         "x": [
          "10.2.6.8",
          "10.2.6.9",
          "10.2.7.10",
          "10.2.7.11",
          "10.2.7.12",
          "10.2.7.14",
          "10.2.7.15",
          "10.2.7.17",
          "10.2.7.18",
          "10.2.7.19",
          "10.2.7.2",
          "10.2.7.20",
          "10.2.7.21",
          "10.2.7.22",
          "10.2.7.23",
          "10.2.7.24",
          "10.2.7.25",
          "10.2.7.4",
          "10.2.7.5",
          "10.2.7.9"
         ],
         "y": [
          5.37174560298,
          5.37174560298,
          5.37174560298,
          5.37174560298,
          5.37174560298,
          5.37174560298,
          5.37174560298,
          5.37174560298,
          5.37174560298,
          5.37174560298,
          5.37174560298,
          5.37174560298,
          5.37174560298,
          5.37174560298,
          5.37174560298,
          5.37174560298,
          5.37174560298,
          5.37174560298,
          5.37174560298,
          5.37174560298
         ]
        }
       ],
       "layout": {
        "title": "Gráfico de información de cada símbolo.",
        "xaxis": {
         "title": "Símbolos"
        },
        "yaxis": {
         "title": "Información"
        }
       }
      },
      "text/html": [
       "<div id=\"cc1c5ba1-a188-482e-8901-be241bf8f082\" style=\"height: 525px; width: 100%;\" class=\"plotly-graph-div\"></div><script type=\"text/javascript\">require([\"plotly\"], function(Plotly) { window.PLOTLYENV=window.PLOTLYENV || {};window.PLOTLYENV.BASE_URL=\"https://plot.ly\";Plotly.newPlot(\"cc1c5ba1-a188-482e-8901-be241bf8f082\", [{\"y\": [9.84235034341, 9.84235034341, 9.84235034341, 9.84235034341, 9.84235034341, 9.84235034341, 9.84235034341, 9.84235034341, 9.84235034341, 9.84235034341, 9.84235034341, 9.84235034341, 9.84235034341, 9.84235034341, 9.84235034341, 9.84235034341, 9.84235034341, 9.84235034341, 9.84235034341, 9.84235034341], \"x\": [\"10.2.6.8\", \"10.2.6.9\", \"10.2.7.10\", \"10.2.7.11\", \"10.2.7.12\", \"10.2.7.14\", \"10.2.7.15\", \"10.2.7.17\", \"10.2.7.18\", \"10.2.7.19\", \"10.2.7.2\", \"10.2.7.20\", \"10.2.7.21\", \"10.2.7.22\", \"10.2.7.23\", \"10.2.7.24\", \"10.2.7.25\", \"10.2.7.4\", \"10.2.7.5\", \"10.2.7.9\"], \"type\": \"bar\", \"name\": \"Red Laboratorio, S2\"}, {\"y\": [5.37174560298, 5.37174560298, 5.37174560298, 5.37174560298, 5.37174560298, 5.37174560298, 5.37174560298, 5.37174560298, 5.37174560298, 5.37174560298, 5.37174560298, 5.37174560298, 5.37174560298, 5.37174560298, 5.37174560298, 5.37174560298, 5.37174560298, 5.37174560298, 5.37174560298, 5.37174560298], \"x\": [\"10.2.6.8\", \"10.2.6.9\", \"10.2.7.10\", \"10.2.7.11\", \"10.2.7.12\", \"10.2.7.14\", \"10.2.7.15\", \"10.2.7.17\", \"10.2.7.18\", \"10.2.7.19\", \"10.2.7.2\", \"10.2.7.20\", \"10.2.7.21\", \"10.2.7.22\", \"10.2.7.23\", \"10.2.7.24\", \"10.2.7.25\", \"10.2.7.4\", \"10.2.7.5\", \"10.2.7.9\"], \"type\": \"scatter\", \"name\": \"Entrop\\u00eda de Red Laboratorio, S2\", \"mode\": \"lines\"}], {\"title\": \"Gr\\u00e1fico de informaci\\u00f3n de cada s\\u00edmbolo.\", \"xaxis\": {\"title\": \"S\\u00edmbolos\"}, \"yaxis\": {\"title\": \"Informaci\\u00f3n\"}}, {\"linkText\": \"Export to plot.ly\", \"showLink\": true})});</script>"
      ],
      "text/vnd.plotly.v1+html": [
       "<div id=\"cc1c5ba1-a188-482e-8901-be241bf8f082\" style=\"height: 525px; width: 100%;\" class=\"plotly-graph-div\"></div><script type=\"text/javascript\">require([\"plotly\"], function(Plotly) { window.PLOTLYENV=window.PLOTLYENV || {};window.PLOTLYENV.BASE_URL=\"https://plot.ly\";Plotly.newPlot(\"cc1c5ba1-a188-482e-8901-be241bf8f082\", [{\"y\": [9.84235034341, 9.84235034341, 9.84235034341, 9.84235034341, 9.84235034341, 9.84235034341, 9.84235034341, 9.84235034341, 9.84235034341, 9.84235034341, 9.84235034341, 9.84235034341, 9.84235034341, 9.84235034341, 9.84235034341, 9.84235034341, 9.84235034341, 9.84235034341, 9.84235034341, 9.84235034341], \"x\": [\"10.2.6.8\", \"10.2.6.9\", \"10.2.7.10\", \"10.2.7.11\", \"10.2.7.12\", \"10.2.7.14\", \"10.2.7.15\", \"10.2.7.17\", \"10.2.7.18\", \"10.2.7.19\", \"10.2.7.2\", \"10.2.7.20\", \"10.2.7.21\", \"10.2.7.22\", \"10.2.7.23\", \"10.2.7.24\", \"10.2.7.25\", \"10.2.7.4\", \"10.2.7.5\", \"10.2.7.9\"], \"type\": \"bar\", \"name\": \"Red Laboratorio, S2\"}, {\"y\": [5.37174560298, 5.37174560298, 5.37174560298, 5.37174560298, 5.37174560298, 5.37174560298, 5.37174560298, 5.37174560298, 5.37174560298, 5.37174560298, 5.37174560298, 5.37174560298, 5.37174560298, 5.37174560298, 5.37174560298, 5.37174560298, 5.37174560298, 5.37174560298, 5.37174560298, 5.37174560298], \"x\": [\"10.2.6.8\", \"10.2.6.9\", \"10.2.7.10\", \"10.2.7.11\", \"10.2.7.12\", \"10.2.7.14\", \"10.2.7.15\", \"10.2.7.17\", \"10.2.7.18\", \"10.2.7.19\", \"10.2.7.2\", \"10.2.7.20\", \"10.2.7.21\", \"10.2.7.22\", \"10.2.7.23\", \"10.2.7.24\", \"10.2.7.25\", \"10.2.7.4\", \"10.2.7.5\", \"10.2.7.9\"], \"type\": \"scatter\", \"name\": \"Entrop\\u00eda de Red Laboratorio, S2\", \"mode\": \"lines\"}], {\"title\": \"Gr\\u00e1fico de informaci\\u00f3n de cada s\\u00edmbolo.\", \"xaxis\": {\"title\": \"S\\u00edmbolos\"}, \"yaxis\": {\"title\": \"Informaci\\u00f3n\"}}, {\"linkText\": \"Export to plot.ly\", \"showLink\": true})});</script>"
      ]
     },
     "metadata": {},
     "output_type": "display_data"
    }
   ],
   "source": [
    "import os\n",
    "import plotly\n",
    "import subprocess\n",
    "import pandas as pd\n",
    "import numpy as np\n",
    "import plotly.plotly as py\n",
    "import plotly.figure_factory as ff\n",
    "import plotly.graph_objs as go\n",
    "import collections\n",
    "from itertools import chain\n",
    "import re\n",
    "from operator import itemgetter\n",
    "\n",
    "from IPython.core.interactiveshell import InteractiveShell\n",
    "InteractiveShell.ast_node_interactivity = \"all\"\n",
    "\n",
    "plotly.tools.set_credentials_file(username='Fernet', api_key='zC7ogVfVT5UPcpu2VKse')\n",
    "plotly.offline.init_notebook_mode(connected=True)\n",
    "\n",
    "#---------------- Settings ----------------\n",
    "\n",
    "image_ext = \"svg\" #Extension para bajar los graficos\n",
    "symbols_qty = 20  #Maxima cantidad de simbolos a graficar\n",
    "#image_h = 1000\n",
    "#image_w = 1400\n",
    "image_h = 600\n",
    "image_w = 800\n",
    "\n",
    "#---------------- Funciones ----------------\n",
    "\n",
    "def read_source_data(input_file, source_name):\n",
    "    data = pd.read_csv(input_file, sep=\";\")\n",
    "    symbols = data[\"Symbol\"].tolist()\n",
    "    probabilities = data[\"Probability\"].tolist()\n",
    "    information = data[\"Information\"].tolist()\n",
    "    entropy = data[\"Entropy\"][0]\n",
    "    max_entropy = data[\"Maximum Entropy\"][0]\n",
    "    \n",
    "    #If there are too many symbols, take the 20 most important\n",
    "    if len(symbols) > symbols_qty:\n",
    "        print \"hello\"\n",
    "        information, symbols, probabilities = (list(l)\n",
    "                    for l in zip(*sorted(zip(information, symbols, probabilities))))\n",
    "        \n",
    "        information = information[len(information) - symbols_qty : len(information)]\n",
    "        symbols = symbols[len(symbols) - symbols_qty : len(symbols)]\n",
    "        probabilities = probabilities[len(probabilities) - symbols_qty : len(probabilities)]\n",
    "    \n",
    "    \n",
    "    source_data = SourceData(Symbols=symbols, Probabilities=probabilities,\n",
    "                        Information=information, Entropy=entropy, Max_Entropy=max_entropy, Source_Name=source_name)\n",
    "    return source_data\n",
    "\n",
    "\n",
    "def plot_symbols_info(sources, fig_title):\n",
    "    traces = [(go.Bar(x = source_data.Symbols, y = source_data.Information, name = source_data.Source_Name),\n",
    "            go.Scatter(x=source_data.Symbols, y =[source_data.Entropy for s in source_data.Symbols],\n",
    "                       name=\"Entropía de \" + source_data.Source_Name, mode='lines'))\n",
    "            for source_data in sources]\n",
    "                                \n",
    "    traces = list(chain.from_iterable(traces))\n",
    "    \n",
    "    x_title = \"Símbolos\"\n",
    "    y_title = \"Información\"\n",
    "    layout = go.Layout(\n",
    "                title = fig_title,\n",
    "                xaxis = dict(title = x_title),\n",
    "                yaxis = dict(title = y_title)\n",
    "    )\n",
    "    \n",
    "    fig = go.Figure(data=traces, layout=layout)\n",
    "    \n",
    "    plotly.offline.iplot(fig)\n",
    "    \n",
    "def plot_broadcast_info(sources, fig_title):\n",
    "    for source_data in sources:\n",
    "        symbols = source_data.Symbols\n",
    "        probabilities = source_data.Probabilities\n",
    "\n",
    "        broadcast_probability = 0\n",
    "        for i in range(len(symbols)):\n",
    "            s = symbols[i]\n",
    "            if 'broadcast' in s:\n",
    "                broadcast_probability += probabilities[i]\n",
    "        labels = ['Broadcast', 'Unicast']\n",
    "        values = [broadcast_probability, 1 - broadcast_probability]\n",
    "        layout = go.Layout(title=fig_title)\n",
    "        #Create pie fig\n",
    "        fig = {\n",
    "            \"data\": [{\"values\": values, \"labels\": labels, \"type\":\"pie\"}],\n",
    "            \"layout\": {\"title\": fig_title}\n",
    "        }\n",
    "\n",
    "        plotly.offline.iplot(fig)\n",
    "       \n",
    "    \n",
    "def plot_probabilities_info(sources, fig_title):\n",
    "    \n",
    "    traces = [go.Bar(x = source_data.Symbols, y = source_data.Probabilities, name = source_data.Source_Name)\n",
    "            for source_data in sources]\n",
    "                                \n",
    "    \n",
    "    x_title = \"Símbolos\"\n",
    "    y_title = \"Probabilidad\"\n",
    "    layout = go.Layout(\n",
    "                title = fig_title,\n",
    "                xaxis = dict(title = x_title),\n",
    "                yaxis = dict(title = y_title)\n",
    "    )\n",
    "    \n",
    "    \n",
    "    fig = go.Figure(data=traces, layout=layout)\n",
    "    plotly.offline.iplot(fig)\n",
    "\n",
    "\n",
    "\n",
    "def tiempo_vs_calidad(data_path, algoritmo, tam):\n",
    "    data = pd.read_csv(data_path, sep = \";\")\n",
    "    df_algoritmo = data.loc[data[\"Algoritmo\"] == algoritmo] #Tiene todas las filas del algoritmo pedido\n",
    "    df_algoritmo = df_algoritmo.loc[df_algoritmo[\"V\"] == tam] #Tiene todas las filas para el V pedido\n",
    "    df_algoritmo[\"Calidad_solucion\"] = df_algoritmo[\"Solucion\"] / (df_algoritmo[\"Solucion\"] + df_algoritmo[\"Dif_frontera\"])\n",
    "    \n",
    "    tiempos = df_algoritmo[\"Tiempo\"]\n",
    "    calidades = df_algoritmo[\"Calidad_solucion\"]\n",
    "    return tiempos, calidades\n",
    "\n",
    "\n",
    "def create_bar_fig(x_values, y_values, x_title, y_title, fig_title=\"Bar fig\"):\n",
    "    data = [go.Bar(\n",
    "                x = x_values,\n",
    "                y = y_values\n",
    "        )]\n",
    "\n",
    "    layout = go.Layout(\n",
    "        xaxis=dict(\n",
    "            title = x_title\n",
    "        ),\n",
    "        yaxis=dict(\n",
    "            title = y_title\n",
    "        ),\n",
    "        title = fig_title\n",
    "    )\n",
    "    fig = go.Figure(data=data, layout=layout)\n",
    "    return fig\n",
    "\n",
    "#Toma un vector de tuplas (x, y, nombre) y devuelve una figura con cada tupla de datos\n",
    "def crear_fig(traces, xtitle, ytitle, fig_title, marcadores=None):\n",
    "    data = []\n",
    "    for trace in traces:\n",
    "        #Para que todas las traces sean distintas ademas del color\n",
    "        i = 0\n",
    "        if not marcadores:\n",
    "            modo = str(i)\n",
    "        else:\n",
    "            modo = marcadores\n",
    "        i += 1\n",
    "\n",
    "        new_trace = go.Scatter(\n",
    "            x = trace[0],\n",
    "            y = trace[1],\n",
    "            name = trace[2],\n",
    "            mode = modo\n",
    "                \n",
    "        )\n",
    "        data.append(new_trace)\n",
    "    \n",
    "    layout = go.Layout(\n",
    "        xaxis=dict(\n",
    "            tickmode = \"auto\",\n",
    "            #nticks = cant_exp,\n",
    "            ticks = \"inside\",\n",
    "            #tick0 = 0,\n",
    "            #ticklen = 8,\n",
    "            #dtick = 3,\n",
    "            title = xtitle,\n",
    "            tickangle = 0\n",
    "        ),\n",
    "        yaxis=dict(\n",
    "            tick0 = 0,\n",
    "            zeroline = \"False\",\n",
    "            ticks='inside',\n",
    "            ticklen=8,\n",
    "            tickwidth=3,\n",
    "            tickcolor='#000',\n",
    "            title = ytitle\n",
    "        ),\n",
    "        legend=dict(\n",
    "            x=10,\n",
    "            y=1,\n",
    "            traceorder='normal',\n",
    "            font=dict(\n",
    "                family='sans-serif',\n",
    "                size=14,\n",
    "                color='#000'\n",
    "            ),\n",
    "            bgcolor='#E2E2E2',\n",
    "            bordercolor='#FFFFFF',\n",
    "            borderwidth=2\n",
    "        ),\n",
    "        title = fig_title\n",
    "    )\n",
    "    \n",
    "    return go.Figure(data=data, layout=layout)\n",
    "\n",
    "#---------------- Script ----------------\n",
    "\n",
    "#---Data gathering---\n",
    "\n",
    "SourceData = collections.namedtuple('SourceData', ['Symbols', \"Probabilities\",\n",
    "                                    \"Information\", \"Entropy\", \"Max_Entropy\", \"Source_Name\"])\n",
    "\n",
    "#--S1--\n",
    "\n",
    "#Home network 1\n",
    "source_data_hn1_S1 = read_source_data(\"homeNetwork1_S1.csv\", \"Hogar 1, S1\")\n",
    "\n",
    "#Home network 2\n",
    "source_data_hn2_S1 = read_source_data(\"homeNetwork2_S1.csv\", \"Hogar 2, S1\")\n",
    "\n",
    "#Work network\n",
    "source_data_wn_S1 = read_source_data(\"workNetwork_S1.csv\", \"Trabajo, S1\")\n",
    "\n",
    "#Lab network\n",
    "source_data_ln_S1 = read_source_data(\"labNetwork_S1.csv\", \"Laboratorio, S1\")\n",
    "\n",
    "sources_S1 = [source_data_hn1_S1, source_data_hn2_S1, source_data_wn_S1, source_data_ln_S1]\n",
    "\n",
    "#--S2--\n",
    "\n",
    "#Home network 1\n",
    "source_data_hn1_S2 = read_source_data(\"homeNetwork1_S2.csv\", \"Red Hogar 1, S2\")\n",
    "\n",
    "#Home network 2\n",
    "source_data_hn2_S2 = read_source_data(\"homeNetwork2_S2.csv\", \"Red Hogar 2, S2\")\n",
    "\n",
    "#Work network\n",
    "source_data_wn_S2 = read_source_data(\"workNetwork_S2.csv\", \"Red Trabajo, S2\")\n",
    "\n",
    "#Lab network\n",
    "source_data_ln_S2 = read_source_data(\"labNetwork_S2.csv\", \"Red Laboratorio, S2\")\n",
    "\n",
    "sources_S2 = [source_data_hn1_S2, source_data_hn2_S2, source_data_wn_S2, source_data_ln_S2]\n",
    "\n",
    "\n",
    "#Graficos\n",
    "\n",
    "def plot_sources(plot_function, sources):\n",
    "    if plot_function == plot_symbols_info:\n",
    "        plot_fun_title = \"Gráfico de información de cada símbolo.\"\n",
    "    elif plot_function == plot_broadcast_info:\n",
    "        plot_fun_title = \"Gráfico de tráfico de broadcast sobre el total.\"\n",
    "    elif plot_function == plot_probabilities_info:\n",
    "        plot_fun_title = \"Gráfico de probabilidades de cada símbolo.\"\n",
    "    elif plot_function == plot_ARP_network:\n",
    "        plot_fun_title = \"Gráfico de la red ARP subyacente.\"\n",
    "    else:\n",
    "        print \"Error in call_on_sources source_type parameter. Must be 1 or 2\"\n",
    "    \n",
    "    for source in sources:\n",
    "        plot_function([source], plot_fun_title)\n",
    "    \n",
    "#     if source_type == 1:\n",
    "#         function(source_data_hn1_S1, plot_fun_title)\n",
    "#         function(source_data_hn2_S1, plot_fun_title)\n",
    "#         function(source_data_wn_S1, plot_fun_title)\n",
    "#         function(source_data_ln_S1, plot_fun_title)\n",
    "#     elif source_type == 2:\n",
    "#         function(source_data_hn1_S2, plot_fun_title)\n",
    "#         function(source_data_hn2_S2, plot_fun_title)\n",
    "#         function(source_data_wn_S2, plot_fun_title)\n",
    "#         function(source_data_ln_S2, plot_fun_title)\n",
    "\n",
    "def plot_graphs_S1():\n",
    "    plot_sources(plot_symbols_info, sources_S1)\n",
    "    plot_sources(plot_broadcast_info, sources_S1)\n",
    "    plot_sources(plot_probabilities_info, sources_S1)\n",
    "    networks = [source_data_hn1_S1, source_data_hn2_S1, source_data_wn_S1, source_data_ln_S1]\n",
    "    plot_symbols_info(networks, \"Comparación de información entre todas las redes\")\n",
    "    \n",
    "    \n",
    "def plot_graphs_S2():\n",
    "    plot_sources(plot_symbols_info, sources_S2)\n",
    "    \n",
    "    \n",
    "def plot_all_graphs():\n",
    "    plot_graphs_S1()\n",
    "    plot_graphs_S2()\n",
    "\n",
    "\n",
    "plot_all_graphs()\n",
    "\n",
    "\n",
    "\n",
    "\n",
    "#plotly.offline.iplot(fig)\n",
    "#plotly.offline.iplot(fig, image = image_ext, image_width = image_w, image_height = image_h, filename = \"Ejemplo\")\n",
    "\n",
    "\n"
   ]
  },
  {
   "cell_type": "code",
   "execution_count": null,
   "metadata": {},
   "outputs": [],
   "source": [
    "import os\n",
    "import plotly\n",
    "import subprocess\n",
    "import pandas as pd\n",
    "import numpy as np\n",
    "import plotly.plotly as py\n",
    "import plotly.figure_factory as ff\n",
    "import plotly.graph_objs as go\n",
    "import collections\n",
    "import re\n",
    "from operator import itemgetter\n",
    "\n",
    "from IPython.core.interactiveshell import InteractiveShell\n",
    "InteractiveShell.ast_node_interactivity = \"all\"\n",
    "\n",
    "plotly.tools.set_credentials_file(username='Fernet', api_key='zC7ogVfVT5UPcpu2VKse')\n",
    "plotly.offline.init_notebook_mode(connected=True)\n",
    "\n",
    "#---------------- Settings ----------------\n",
    "\n",
    "image_ext = \"svg\" #Extension para bajar los graficos\n",
    "poda = 5 #Cuantos datos se dejan a cada lado al podar\n",
    "n = 175  #El n fijo para el grafico de tiempo en función de calidad de solucion\n",
    "#image_h = 1000\n",
    "#image_w = 1400\n",
    "image_h = 600\n",
    "image_w = 800\n",
    "\n",
    "#---------------- Pruebas ----------------"
   ]
  },
  {
   "cell_type": "code",
   "execution_count": null,
   "metadata": {},
   "outputs": [],
   "source": []
  }
 ],
 "metadata": {
  "kernelspec": {
   "display_name": "Python 2",
   "language": "python",
   "name": "python2"
  },
  "language_info": {
   "codemirror_mode": {
    "name": "ipython",
    "version": 2
   },
   "file_extension": ".py",
   "mimetype": "text/x-python",
   "name": "python",
   "nbconvert_exporter": "python",
   "pygments_lexer": "ipython2",
   "version": "2.7.12"
  }
 },
 "nbformat": 4,
 "nbformat_minor": 2
}
